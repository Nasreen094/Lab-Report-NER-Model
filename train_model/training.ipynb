{
 "cells": [
  {
   "cell_type": "code",
   "execution_count": 36,
   "metadata": {},
   "outputs": [],
   "source": [
    "import pandas as pd\n",
    "import glob\n",
    "import errno\n",
    "import nltk\n",
    "from itertools import chain\n",
    "from itertools import groupby\n",
    "from operator import itemgetter\n",
    "import re\n",
    "\n",
    "import sklearn\n",
    "import scipy.stats\n",
    "from sklearn.metrics import make_scorer\n",
    "import numpy as np\n",
    "import random\n",
    "random.seed(42)\n",
    "import sklearn_crfsuite\n",
    "from sklearn_crfsuite import scorers\n",
    "from sklearn_crfsuite import metrics"
   ]
  },
  {
   "cell_type": "code",
   "execution_count": null,
   "metadata": {},
   "outputs": [],
   "source": []
  },
  {
   "cell_type": "code",
   "execution_count": null,
   "metadata": {},
   "outputs": [],
   "source": []
  },
  {
   "cell_type": "code",
   "execution_count": null,
   "metadata": {},
   "outputs": [],
   "source": []
  },
  {
   "cell_type": "markdown",
   "metadata": {},
   "source": [
    "# Data Creation"
   ]
  },
  {
   "cell_type": "code",
   "execution_count": 37,
   "metadata": {},
   "outputs": [],
   "source": [
    "path = 'Training_Data/*.csv'\n",
    "\n",
    "files = glob.glob(path)\n",
    "train=[]\n",
    "names=[]\n",
    "for name in files:\n",
    "    try:\n",
    "        df=pd.read_csv(name,index_col=0)\n",
    "        df['w']=df['w'].replace({'\\n':'#n'})\n",
    "        \n",
    "        df['pos']=df['w'].apply(lambda x:nltk.pos_tag([str(x)])[0][1])\n",
    "        tuple1 = [tuple(x) for x in df.values]\n",
    "        train.append(tuple1)\n",
    "        \n",
    "    except IOError as exc:\n",
    "        if exc.errno != errno.EISDIR:\n",
    "            raise\n"
   ]
  },
  {
   "cell_type": "code",
   "execution_count": 38,
   "metadata": {},
   "outputs": [
    {
     "data": {
      "text/plain": [
       "195"
      ]
     },
     "execution_count": 38,
     "metadata": {},
     "output_type": "execute_result"
    }
   ],
   "source": [
    "len(train)"
   ]
  },
  {
   "cell_type": "code",
   "execution_count": 39,
   "metadata": {},
   "outputs": [],
   "source": [
    "path = 'Retraining_Data/*.csv'\n",
    "\n",
    "files = glob.glob(path)\n",
    "\n",
    "for name in files:\n",
    "    try:\n",
    "        df=pd.read_csv(name,index_col=0)\n",
    "        df['w']=df['w'].replace({'\\n':'#n'})\n",
    "        \n",
    "        df['pos']=df['w'].apply(lambda x:nltk.pos_tag([str(x)])[0][1])\n",
    "        tuple1 = [tuple(x) for x in df.values]\n",
    "        train.append(tuple1)\n",
    "        \n",
    "    except IOError as exc:\n",
    "        if exc.errno != errno.EISDIR:\n",
    "            raise\n"
   ]
  },
  {
   "cell_type": "code",
   "execution_count": 40,
   "metadata": {},
   "outputs": [
    {
     "data": {
      "text/plain": [
       "197"
      ]
     },
     "execution_count": 40,
     "metadata": {},
     "output_type": "execute_result"
    }
   ],
   "source": [
    "len(train)"
   ]
  },
  {
   "cell_type": "code",
   "execution_count": null,
   "metadata": {},
   "outputs": [],
   "source": []
  },
  {
   "cell_type": "code",
   "execution_count": null,
   "metadata": {},
   "outputs": [],
   "source": []
  },
  {
   "cell_type": "code",
   "execution_count": 41,
   "metadata": {},
   "outputs": [],
   "source": [
    "import json\n",
    "\n",
    "with open('crf_module_vocab.json') as fp:\n",
    "    crf_module_vocab=json.load( fp)"
   ]
  },
  {
   "cell_type": "code",
   "execution_count": 42,
   "metadata": {},
   "outputs": [
    {
     "data": {
      "text/plain": [
       "dict_keys(['sub_names', 'suffix', 'chars', 'starts', 'range_cat'])"
      ]
     },
     "execution_count": 42,
     "metadata": {},
     "output_type": "execute_result"
    }
   ],
   "source": [
    "crf_module_vocab.keys()"
   ]
  },
  {
   "cell_type": "code",
   "execution_count": 43,
   "metadata": {},
   "outputs": [],
   "source": [
    "range_category=crf_module_vocab['range_cat']"
   ]
  },
  {
   "cell_type": "code",
   "execution_count": null,
   "metadata": {},
   "outputs": [],
   "source": []
  },
  {
   "cell_type": "code",
   "execution_count": 13,
   "metadata": {},
   "outputs": [],
   "source": [
    "def is_name(word):\n",
    "    if any([ word.upper().strip().endswith(i) for i in crf_module_vocab['suffix']]):\n",
    "           return True\n",
    "    elif any([ word.upper().strip().startswith(i) for i in crf_module_vocab['starts']]):\n",
    "           return True\n",
    "    elif any([i in word.upper().strip() for i in crf_module_vocab['sub_names']]):\n",
    "           return True\n",
    "    \n",
    "    else:\n",
    "           return False\n",
    "    "
   ]
  },
  {
   "cell_type": "code",
   "execution_count": 14,
   "metadata": {},
   "outputs": [],
   "source": [
    "def is_unit(word):\n",
    "#     if word in units_list:\n",
    "#         return True\n",
    "    if word.upper().strip().endswith('/L'):\n",
    "        return True\n",
    "    elif re.match(r'(^(10)\\s?\\^\\s?[1-9]\\s?(/[Uu]?[lL])?$)|(^(10)?\\s?~?\\s?\\d/[Uu]?[Ll]$)',word):\n",
    "        return True  \n",
    "    else:\n",
    "        return False"
   ]
  },
  {
   "cell_type": "code",
   "execution_count": 15,
   "metadata": {},
   "outputs": [],
   "source": [
    "range_list=['-','>','<','-—','—-','=','–','Up to 15', 'Up']\n",
    "def is_range(word):\n",
    "    if word in range_list:\n",
    "        return True\n",
    "    elif re.match(r'^\\d*\\.?\\d*\\s?[-|—|>|<|=|-—|–|-]\\s?\\d+\\.?\\d*$',word):\n",
    "        return True\n",
    "    else:\n",
    "        return False"
   ]
  },
  {
   "cell_type": "code",
   "execution_count": 16,
   "metadata": {},
   "outputs": [],
   "source": [
    "\n",
    "def is_range_cat(word):\n",
    "    if word in range_category:\n",
    "        return True\n",
    "    \n",
    "    else:\n",
    "        return False"
   ]
  },
  {
   "cell_type": "code",
   "execution_count": 17,
   "metadata": {},
   "outputs": [],
   "source": [
    "def word2features(sent, i):\n",
    "    word = str(sent[i][0])\n",
    "    #print(type(word))\n",
    "    postag = sent[i][2]\n",
    "    features = {\n",
    "        'bias': 1.0,\n",
    "        'word.lower()': word.lower(),\n",
    "        'word[-3:]': word[-3:],\n",
    "        'word[-2:]': word[-2:],\n",
    "        'word.isupper()': word.isupper(),\n",
    "        'word.istitle()': word.istitle(),\n",
    "        'word.isdigit()': word.isdigit(),\n",
    "        'postag': postag,\n",
    "         'postag[:2]': postag[:2],\n",
    "         'word[+3:]': word[+3:],\n",
    "             'word[+2:]': word[+2:],\n",
    "      #   'is_unit()': is_unit(word),\n",
    "         'is_range_cat()': is_range_cat(word),\n",
    "        'is_name()': is_name(word),\n",
    "        #'length':len(word)\n",
    "        \n",
    "    }\n",
    "    if i > 0:\n",
    "        word1 = str(sent[i-1][0])\n",
    "        postag1 = sent[i-1][1]\n",
    "        features.update({\n",
    "            '-1:word.lower()': word1.lower(),\n",
    "            '-1:word.istitle()': word1.istitle(),\n",
    "            '-1:word.isupper()': word1.isupper(),\n",
    "            '-1:word.isdigit()': word1.isdigit(),\n",
    "           '-1:is_name()': is_name(word1),\n",
    "           # '-1:is_range_cat()': is_range_cat(word1),\n",
    "          #  '-1:length':len(word1)\n",
    "        })\n",
    "    else:\n",
    "        features['BOS'] = True\n",
    "\n",
    "    if i < len(sent)-1:\n",
    "        word1 = str(sent[i+1][0])\n",
    "        postag1 = sent[i+1][1]\n",
    "        features.update({\n",
    "            '+1:word.lower()': word1.lower(),\n",
    "            '+1:word.istitle()': word1.istitle(),\n",
    "            '+1:word.isupper()': word1.isupper(),\n",
    "             '+1:word.isdigit()': word1.isdigit(),\n",
    "               '+1:is_name()': is_name(word1),\n",
    "          #  '+1:is_range_cat()': is_range_cat(word1),\n",
    "          #  '+1:length':len(word1)\n",
    "        })\n",
    "    else:\n",
    "        features['EOS'] = True\n",
    "\n",
    "    return features\n",
    "\n",
    "\n",
    "def sent2features(sent):\n",
    "    return [word2features(sent, i) for i in range(len(sent))]\n",
    "\n",
    "def sent2labels(sent):\n",
    "    return [label for token,label, postag  in sent]\n",
    "\n",
    "# def sent2tokens(sent):\n",
    "#     return [token for token, label, postag in sent]"
   ]
  },
  {
   "cell_type": "code",
   "execution_count": 18,
   "metadata": {},
   "outputs": [],
   "source": [
    "X = [sent2features(s) for s in train]\n",
    "y = [sent2labels(s) for s in train]\n"
   ]
  },
  {
   "cell_type": "code",
   "execution_count": 19,
   "metadata": {},
   "outputs": [
    {
     "name": "stdout",
     "output_type": "stream",
     "text": [
      "CPU times: user 22 µs, sys: 2 µs, total: 24 µs\n",
      "Wall time: 34.1 µs\n"
     ]
    }
   ],
   "source": [
    "%%time\n",
    "crf = sklearn_crfsuite.CRF(\n",
    "    algorithm='ap',\n",
    "   all_possible_states=True,\n",
    "   all_possible_transitions=True,\n",
    "    max_iterations=1000,\n",
    "    \n",
    "   \n",
    ")"
   ]
  },
  {
   "cell_type": "code",
   "execution_count": 20,
   "metadata": {},
   "outputs": [],
   "source": [
    "from sklearn.model_selection import cross_val_predict\n",
    "from sklearn_crfsuite.metrics import flat_classification_report"
   ]
  },
  {
   "cell_type": "code",
   "execution_count": 21,
   "metadata": {},
   "outputs": [
    {
     "name": "stderr",
     "output_type": "stream",
     "text": [
      "/home/nvalappil/Learning/.learning/lib/python3.6/site-packages/sklearn/base.py:197: FutureWarning: From version 0.24, get_params will raise an AttributeError if a parameter cannot be retrieved as an instance attribute. Previously it would return None.\n",
      "  FutureWarning)\n"
     ]
    }
   ],
   "source": [
    "pred = cross_val_predict(estimator=crf, X=X, y=y, cv=10)"
   ]
  },
  {
   "cell_type": "code",
   "execution_count": null,
   "metadata": {},
   "outputs": [],
   "source": []
  },
  {
   "cell_type": "code",
   "execution_count": 23,
   "metadata": {},
   "outputs": [
    {
     "name": "stdout",
     "output_type": "stream",
     "text": [
      "                     precision    recall  f1-score   support\n",
      "\n",
      "            NEWLINE       1.00      1.00      1.00      3223\n",
      "                  O       0.93      0.95      0.94     18155\n",
      "          TEST_NAME       0.93      0.89      0.91      6963\n",
      "         TEST_RANGE       0.96      0.94      0.95      8416\n",
      "TEST_RANGE_CATEGORY       0.87      0.89      0.88       484\n",
      "          TEST_UNIT       0.93      0.91      0.92      3255\n",
      "         TEST_VALUE       0.90      0.91      0.90      4270\n",
      "\n",
      "           accuracy                           0.94     44766\n",
      "          macro avg       0.93      0.93      0.93     44766\n",
      "       weighted avg       0.94      0.94      0.94     44766\n",
      "\n"
     ]
    }
   ],
   "source": [
    "report = flat_classification_report(y_pred=pred, y_true=y)\n",
    "print(report)"
   ]
  },
  {
   "cell_type": "code",
   "execution_count": 24,
   "metadata": {},
   "outputs": [
    {
     "data": {
      "text/plain": [
       "CRF(algorithm='ap', all_possible_states=True, all_possible_transitions=True,\n",
       "    averaging=None, c=None, c1=None, c2=None, calibration_candidates=None,\n",
       "    calibration_eta=None, calibration_max_trials=None, calibration_rate=None,\n",
       "    calibration_samples=None, delta=None, epsilon=None, error_sensitive=None,\n",
       "    gamma=None, keep_tempfiles=None, linesearch=None, max_iterations=1000,\n",
       "    max_linesearch=None, min_freq=None, model_filename=None, num_memories=None,\n",
       "    pa_type=None, period=None, trainer_cls=None, variance=None, verbose=False)"
      ]
     },
     "execution_count": 24,
     "metadata": {},
     "output_type": "execute_result"
    }
   ],
   "source": [
    "\n",
    "crf.fit(X, y)\n",
    "\n",
    "# crf1.fit(X, y)\n",
    "\n",
    "# crf2.fit(X, y)\n",
    "\n",
    "# crf3.fit(X, y)\n"
   ]
  },
  {
   "cell_type": "code",
   "execution_count": 33,
   "metadata": {},
   "outputs": [
    {
     "data": {
      "text/plain": [
       "0.9956021800071991"
      ]
     },
     "execution_count": 33,
     "metadata": {},
     "output_type": "execute_result"
    }
   ],
   "source": [
    "labels = list(crf.classes_)\n",
    "labels.remove('O')\n",
    "y_pred = crf.predict(X_test)\n",
    "metrics.flat_f1_score(y_test, y_pred,\n",
    "                      average='weighted', labels=labels)"
   ]
  },
  {
   "cell_type": "code",
   "execution_count": null,
   "metadata": {},
   "outputs": [],
   "source": []
  },
  {
   "cell_type": "code",
   "execution_count": 33,
   "metadata": {},
   "outputs": [],
   "source": [
    "from datetime import datetime\n",
    "now=datetime.now()"
   ]
  },
  {
   "cell_type": "code",
   "execution_count": 34,
   "metadata": {},
   "outputs": [],
   "source": [
    "now=now.strftime(\"%Y-%m-%d::%H:%M:%S\")"
   ]
  },
  {
   "cell_type": "code",
   "execution_count": null,
   "metadata": {},
   "outputs": [],
   "source": []
  },
  {
   "cell_type": "code",
   "execution_count": 115,
   "metadata": {},
   "outputs": [],
   "source": [
    "import pickle\n",
    "filename = now+'_crf_model.sav'\n",
    "pickle.dump(crf, open(filename, 'wb'))"
   ]
  },
  {
   "cell_type": "code",
   "execution_count": 143,
   "metadata": {},
   "outputs": [],
   "source": [
    "import pickle\n",
    "filename = '2020-05-04_crf_model.sav'\n",
    "crf=pickle.load(open(filename, 'rb'))"
   ]
  },
  {
   "cell_type": "code",
   "execution_count": null,
   "metadata": {},
   "outputs": [],
   "source": []
  },
  {
   "cell_type": "code",
   "execution_count": null,
   "metadata": {},
   "outputs": [],
   "source": []
  },
  {
   "cell_type": "code",
   "execution_count": null,
   "metadata": {},
   "outputs": [],
   "source": []
  },
  {
   "cell_type": "code",
   "execution_count": null,
   "metadata": {},
   "outputs": [],
   "source": []
  },
  {
   "cell_type": "code",
   "execution_count": null,
   "metadata": {},
   "outputs": [],
   "source": []
  },
  {
   "cell_type": "code",
   "execution_count": null,
   "metadata": {},
   "outputs": [],
   "source": []
  },
  {
   "cell_type": "code",
   "execution_count": null,
   "metadata": {},
   "outputs": [],
   "source": []
  }
 ],
 "metadata": {
  "kernelspec": {
   "display_name": ".learning",
   "language": "python",
   "name": ".learning"
  },
  "language_info": {
   "codemirror_mode": {
    "name": "ipython",
    "version": 3
   },
   "file_extension": ".py",
   "mimetype": "text/x-python",
   "name": "python",
   "nbconvert_exporter": "python",
   "pygments_lexer": "ipython3",
   "version": "3.6.8"
  }
 },
 "nbformat": 4,
 "nbformat_minor": 2
}
