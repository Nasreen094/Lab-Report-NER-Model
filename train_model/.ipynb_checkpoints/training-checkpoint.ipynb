{
 "cells": [
  {
   "cell_type": "code",
   "execution_count": 1,
   "metadata": {},
   "outputs": [],
   "source": [
    "import pandas as pd\n",
    "import glob\n",
    "import errno\n",
    "import nltk\n",
    "from itertools import chain\n",
    "from itertools import groupby\n",
    "from operator import itemgetter\n",
    "import re\n",
    "\n",
    "import sklearn\n",
    "import scipy.stats\n",
    "from sklearn.metrics import make_scorer\n",
    "import numpy as np\n",
    "import random\n",
    "random.seed(42)\n",
    "import sklearn_crfsuite\n",
    "from sklearn_crfsuite import scorers\n",
    "from sklearn_crfsuite import metrics"
   ]
  },
  {
   "cell_type": "markdown",
   "metadata": {},
   "source": [
    "# Data Creation"
   ]
  },
  {
   "cell_type": "code",
   "execution_count": 2,
   "metadata": {},
   "outputs": [],
   "source": [
    "path = 'Combined/*.csv'\n",
    "\n",
    "files = glob.glob(path)\n",
    "train=[]\n",
    "names=[]\n",
    "for name in files:\n",
    "    try:\n",
    "        df=pd.read_csv(name,index_col=0)\n",
    "        df['w']=df['w'].replace({'\\n':'#n'})\n",
    "        names.extend(df[df['label']=='TEST_NAME'].w.values)\n",
    "        df['pos']=df['w'].apply(lambda x:nltk.pos_tag([str(x)])[0][1])\n",
    "        tuple1 = [tuple(x) for x in df.values]\n",
    "        train.append(tuple1)\n",
    "        \n",
    "    except IOError as exc:\n",
    "        if exc.errno != errno.EISDIR:\n",
    "            raise\n"
   ]
  },
  {
   "cell_type": "code",
   "execution_count": null,
   "metadata": {},
   "outputs": [],
   "source": []
  },
  {
   "cell_type": "code",
   "execution_count": 3,
   "metadata": {},
   "outputs": [
    {
     "ename": "FileNotFoundError",
     "evalue": "[Errno 2] No such file or directory: 'crf_module_vocab.json'",
     "output_type": "error",
     "traceback": [
      "\u001b[0;31m---------------------------------------------------------------------------\u001b[0m",
      "\u001b[0;31mFileNotFoundError\u001b[0m                         Traceback (most recent call last)",
      "\u001b[0;32m<ipython-input-3-8e285748b464>\u001b[0m in \u001b[0;36m<module>\u001b[0;34m\u001b[0m\n\u001b[1;32m      1\u001b[0m \u001b[0;32mimport\u001b[0m \u001b[0mjson\u001b[0m\u001b[0;34m\u001b[0m\u001b[0;34m\u001b[0m\u001b[0m\n\u001b[1;32m      2\u001b[0m \u001b[0;34m\u001b[0m\u001b[0m\n\u001b[0;32m----> 3\u001b[0;31m \u001b[0;32mwith\u001b[0m \u001b[0mopen\u001b[0m\u001b[0;34m(\u001b[0m\u001b[0;34m'crf_module_vocab.json'\u001b[0m\u001b[0;34m)\u001b[0m \u001b[0;32mas\u001b[0m \u001b[0mfp\u001b[0m\u001b[0;34m:\u001b[0m\u001b[0;34m\u001b[0m\u001b[0;34m\u001b[0m\u001b[0m\n\u001b[0m\u001b[1;32m      4\u001b[0m     \u001b[0mcrf_module_vocab\u001b[0m\u001b[0;34m=\u001b[0m\u001b[0mjson\u001b[0m\u001b[0;34m.\u001b[0m\u001b[0mload\u001b[0m\u001b[0;34m(\u001b[0m \u001b[0mfp\u001b[0m\u001b[0;34m)\u001b[0m\u001b[0;34m\u001b[0m\u001b[0;34m\u001b[0m\u001b[0m\n",
      "\u001b[0;31mFileNotFoundError\u001b[0m: [Errno 2] No such file or directory: 'crf_module_vocab.json'"
     ]
    }
   ],
   "source": [
    "import json\n",
    "\n",
    "with open('crf_module_vocab.json') as fp:\n",
    "    crf_module_vocab=json.load( fp)"
   ]
  },
  {
   "cell_type": "code",
   "execution_count": null,
   "metadata": {},
   "outputs": [],
   "source": []
  },
  {
   "cell_type": "code",
   "execution_count": 104,
   "metadata": {},
   "outputs": [],
   "source": [
    "def is_name(word):\n",
    "    if any([ word.upper().strip().endswith(i) for i in crf_module_vocab['suffix']]):\n",
    "           return True\n",
    "    elif any([ word.upper().strip().startswith(i) for i in crf_module_vocab['starts']]):\n",
    "           return True\n",
    "    elif any([i in word.upper().strip() for i in crf_module_vocab['sub_names']]):\n",
    "           return True\n",
    "    \n",
    "    else:\n",
    "           return False\n",
    "    "
   ]
  },
  {
   "cell_type": "code",
   "execution_count": 33,
   "metadata": {},
   "outputs": [],
   "source": [
    "def is_unit(word):\n",
    "#     if word in units_list:\n",
    "#         return True\n",
    "    if word.upper().strip().endswith('/L'):\n",
    "        return True\n",
    "    elif re.match(r'(^(10)\\s?\\^\\s?[1-9]\\s?(/[Uu]?[lL])?$)|(^(10)?\\s?~?\\s?\\d/[Uu]?[Ll]$)',word):\n",
    "        return True  \n",
    "    else:\n",
    "        return False"
   ]
  },
  {
   "cell_type": "code",
   "execution_count": 105,
   "metadata": {},
   "outputs": [],
   "source": [
    "range_list=['-','>','<','-—','—-','=','–','Up to 15', 'Up']\n",
    "def is_range(word):\n",
    "    if word in range_list:\n",
    "        return True\n",
    "    elif re.match(r'^\\d*\\.?\\d*\\s?[-|—|>|<|=|-—|–|-]\\s?\\d+\\.?\\d*$',word):\n",
    "        return True\n",
    "    else:\n",
    "        return False"
   ]
  },
  {
   "cell_type": "code",
   "execution_count": 106,
   "metadata": {},
   "outputs": [],
   "source": [
    "\n",
    "def is_range_cat(word):\n",
    "    if word in range_category:\n",
    "        return True\n",
    "    \n",
    "    else:\n",
    "        return False"
   ]
  },
  {
   "cell_type": "code",
   "execution_count": null,
   "metadata": {},
   "outputs": [],
   "source": []
  },
  {
   "cell_type": "code",
   "execution_count": 494,
   "metadata": {},
   "outputs": [],
   "source": [
    "# def is_unit(word):\n",
    "#     return any([True if word in unit  else False for unit in units_list ])"
   ]
  },
  {
   "cell_type": "code",
   "execution_count": null,
   "metadata": {},
   "outputs": [],
   "source": []
  },
  {
   "cell_type": "code",
   "execution_count": null,
   "metadata": {},
   "outputs": [],
   "source": []
  },
  {
   "cell_type": "code",
   "execution_count": 107,
   "metadata": {},
   "outputs": [],
   "source": [
    "def word2features(sent, i):\n",
    "    word = str(sent[i][0])\n",
    "    #print(type(word))\n",
    "    postag = sent[i][2]\n",
    "    features = {\n",
    "        'bias': 1.0,\n",
    "        'word.lower()': word.lower(),\n",
    "        'word[-3:]': word[-3:],\n",
    "        'word[-2:]': word[-2:],\n",
    "        'word.isupper()': word.isupper(),\n",
    "        'word.istitle()': word.istitle(),\n",
    "        'word.isdigit()': word.isdigit(),\n",
    "        'postag': postag,\n",
    "         'postag[:2]': postag[:2],\n",
    "         'word[+3:]': word[+3:],\n",
    "             'word[+2:]': word[+2:],\n",
    "      #   'is_unit()': is_unit(word),\n",
    "         'is_range_cat()': is_range_cat(word),\n",
    "        'is_name()': is_name(word),\n",
    "        #'length':len(word)\n",
    "        \n",
    "    }\n",
    "    if i > 0:\n",
    "        word1 = str(sent[i-1][0])\n",
    "        postag1 = sent[i-1][1]\n",
    "        features.update({\n",
    "            '-1:word.lower()': word1.lower(),\n",
    "            '-1:word.istitle()': word1.istitle(),\n",
    "            '-1:word.isupper()': word1.isupper(),\n",
    "            '-1:word.isdigit()': word1.isdigit(),\n",
    "           '-1:is_name()': is_name(word1),\n",
    "           # '-1:is_range_cat()': is_range_cat(word1),\n",
    "          #  '-1:length':len(word1)\n",
    "        })\n",
    "    else:\n",
    "        features['BOS'] = True\n",
    "\n",
    "    if i < len(sent)-1:\n",
    "        word1 = str(sent[i+1][0])\n",
    "        postag1 = sent[i+1][1]\n",
    "        features.update({\n",
    "            '+1:word.lower()': word1.lower(),\n",
    "            '+1:word.istitle()': word1.istitle(),\n",
    "            '+1:word.isupper()': word1.isupper(),\n",
    "             '+1:word.isdigit()': word1.isdigit(),\n",
    "               '+1:is_name()': is_name(word1),\n",
    "          #  '+1:is_range_cat()': is_range_cat(word1),\n",
    "          #  '+1:length':len(word1)\n",
    "        })\n",
    "    else:\n",
    "        features['EOS'] = True\n",
    "\n",
    "    return features\n",
    "\n",
    "\n",
    "def sent2features(sent):\n",
    "    return [word2features(sent, i) for i in range(len(sent))]\n",
    "\n",
    "def sent2labels(sent):\n",
    "    return [label for token,label, postag  in sent]\n",
    "\n",
    "# def sent2tokens(sent):\n",
    "#     return [token for token, label, postag in sent]"
   ]
  },
  {
   "cell_type": "code",
   "execution_count": 108,
   "metadata": {},
   "outputs": [],
   "source": [
    "X = [sent2features(s) for s in train]\n",
    "y = [sent2labels(s) for s in train]\n"
   ]
  },
  {
   "cell_type": "code",
   "execution_count": 109,
   "metadata": {},
   "outputs": [
    {
     "name": "stdout",
     "output_type": "stream",
     "text": [
      "CPU times: user 17 µs, sys: 0 ns, total: 17 µs\n",
      "Wall time: 19.8 µs\n"
     ]
    }
   ],
   "source": [
    "%%time\n",
    "crf = sklearn_crfsuite.CRF(\n",
    "    algorithm='ap',\n",
    "   all_possible_states=True,\n",
    "   all_possible_transitions=True,\n",
    "    max_iterations=1000,\n",
    "    \n",
    "   \n",
    ")"
   ]
  },
  {
   "cell_type": "code",
   "execution_count": 37,
   "metadata": {},
   "outputs": [],
   "source": [
    "from sklearn.model_selection import cross_val_predict\n",
    "from sklearn_crfsuite.metrics import flat_classification_report"
   ]
  },
  {
   "cell_type": "code",
   "execution_count": 110,
   "metadata": {},
   "outputs": [],
   "source": [
    "pred = cross_val_predict(estimator=crf, X=X, y=y, cv=10)"
   ]
  },
  {
   "cell_type": "code",
   "execution_count": null,
   "metadata": {},
   "outputs": [],
   "source": []
  },
  {
   "cell_type": "code",
   "execution_count": 111,
   "metadata": {},
   "outputs": [
    {
     "name": "stdout",
     "output_type": "stream",
     "text": [
      "                     precision    recall  f1-score   support\n",
      "\n",
      "            NEWLINE       1.00      1.00      1.00      3223\n",
      "                  O       0.93      0.95      0.94     18155\n",
      "          TEST_NAME       0.94      0.89      0.91      6963\n",
      "         TEST_RANGE       0.96      0.94      0.95      8416\n",
      "TEST_RANGE_CATEGORY       0.87      0.91      0.89       484\n",
      "          TEST_UNIT       0.93      0.91      0.92      3255\n",
      "         TEST_VALUE       0.90      0.91      0.90      4270\n",
      "\n",
      "           accuracy                           0.94     44766\n",
      "          macro avg       0.93      0.93      0.93     44766\n",
      "       weighted avg       0.94      0.94      0.94     44766\n",
      "\n"
     ]
    }
   ],
   "source": [
    "report = flat_classification_report(y_pred=pred, y_true=y)\n",
    "print(report)"
   ]
  },
  {
   "cell_type": "code",
   "execution_count": null,
   "metadata": {},
   "outputs": [],
   "source": []
  },
  {
   "cell_type": "code",
   "execution_count": null,
   "metadata": {},
   "outputs": [],
   "source": []
  },
  {
   "cell_type": "code",
   "execution_count": null,
   "metadata": {},
   "outputs": [],
   "source": []
  },
  {
   "cell_type": "code",
   "execution_count": null,
   "metadata": {},
   "outputs": [],
   "source": []
  },
  {
   "cell_type": "code",
   "execution_count": null,
   "metadata": {},
   "outputs": [],
   "source": []
  },
  {
   "cell_type": "code",
   "execution_count": 96,
   "metadata": {},
   "outputs": [],
   "source": [
    "from sklearn.model_selection import train_test_split\n",
    "\n",
    "X_train, X_test, y_train, y_test = train_test_split(\n",
    "     X, y, test_size=0.33,shuffle=False, random_state=42)"
   ]
  },
  {
   "cell_type": "code",
   "execution_count": 103,
   "metadata": {},
   "outputs": [
    {
     "data": {
      "text/plain": [
       "CRF(algorithm='ap', all_possible_states=True, all_possible_transitions=True,\n",
       "    averaging=None, c=None, c1=None, c2=None, calibration_candidates=None,\n",
       "    calibration_eta=None, calibration_max_trials=None, calibration_rate=None,\n",
       "    calibration_samples=None, delta=None, epsilon=None, error_sensitive=None,\n",
       "    gamma=None, keep_tempfiles=None, linesearch=None, max_iterations=1000,\n",
       "    max_linesearch=None, min_freq=None, model_filename=None, num_memories=None,\n",
       "    pa_type=None, period=None, trainer_cls=None, variance=None, verbose=False)"
      ]
     },
     "execution_count": 103,
     "metadata": {},
     "output_type": "execute_result"
    }
   ],
   "source": [
    "crf.fit(X_train, y_train)\n"
   ]
  },
  {
   "cell_type": "code",
   "execution_count": 20,
   "metadata": {},
   "outputs": [
    {
     "data": {
      "text/plain": [
       "CRF(algorithm='ap', all_possible_states=True, all_possible_transitions=True,\n",
       "    averaging=None, c=None, c1=None, c2=None, calibration_candidates=None,\n",
       "    calibration_eta=None, calibration_max_trials=None, calibration_rate=None,\n",
       "    calibration_samples=None, delta=None, epsilon=None, error_sensitive=None,\n",
       "    gamma=None, keep_tempfiles=None, linesearch=None, max_iterations=1000,\n",
       "    max_linesearch=None, min_freq=None, model_filename=None, num_memories=None,\n",
       "    pa_type=None, period=None, trainer_cls=None, variance=None, verbose=False)"
      ]
     },
     "execution_count": 20,
     "metadata": {},
     "output_type": "execute_result"
    }
   ],
   "source": [
    "crf"
   ]
  },
  {
   "cell_type": "code",
   "execution_count": 104,
   "metadata": {},
   "outputs": [
    {
     "data": {
      "text/plain": [
       "0.9224468446474375"
      ]
     },
     "execution_count": 104,
     "metadata": {},
     "output_type": "execute_result"
    }
   ],
   "source": [
    "labels = list(crf.classes_)\n",
    "labels.remove('O')\n",
    "y_pred = crf.predict(X_test)\n",
    "metrics.flat_f1_score(y_test, y_pred,\n",
    "                      average='weighted', labels=labels)"
   ]
  },
  {
   "cell_type": "code",
   "execution_count": null,
   "metadata": {},
   "outputs": [],
   "source": []
  },
  {
   "cell_type": "code",
   "execution_count": 112,
   "metadata": {},
   "outputs": [
    {
     "data": {
      "text/plain": [
       "CRF(algorithm='ap', all_possible_states=True, all_possible_transitions=True,\n",
       "    averaging=None, c=None, c1=None, c2=None, calibration_candidates=None,\n",
       "    calibration_eta=None, calibration_max_trials=None, calibration_rate=None,\n",
       "    calibration_samples=None, delta=None, epsilon=None, error_sensitive=None,\n",
       "    gamma=None, keep_tempfiles=None, linesearch=None, max_iterations=1000,\n",
       "    max_linesearch=None, min_freq=None, model_filename=None, num_memories=None,\n",
       "    pa_type=None, period=None, trainer_cls=None, variance=None, verbose=False)"
      ]
     },
     "execution_count": 112,
     "metadata": {},
     "output_type": "execute_result"
    }
   ],
   "source": [
    "\n",
    "crf.fit(X, y)\n",
    "\n",
    "# crf1.fit(X, y)\n",
    "\n",
    "# crf2.fit(X, y)\n",
    "\n",
    "# crf3.fit(X, y)\n"
   ]
  },
  {
   "cell_type": "code",
   "execution_count": null,
   "metadata": {},
   "outputs": [],
   "source": []
  },
  {
   "cell_type": "code",
   "execution_count": 33,
   "metadata": {},
   "outputs": [
    {
     "data": {
      "text/plain": [
       "0.9956021800071991"
      ]
     },
     "execution_count": 33,
     "metadata": {},
     "output_type": "execute_result"
    }
   ],
   "source": [
    "labels = list(crf.classes_)\n",
    "labels.remove('O')\n",
    "y_pred = crf.predict(X_test)\n",
    "metrics.flat_f1_score(y_test, y_pred,\n",
    "                      average='weighted', labels=labels)"
   ]
  },
  {
   "cell_type": "code",
   "execution_count": 76,
   "metadata": {},
   "outputs": [
    {
     "data": {
      "text/plain": [
       "0.9762245901662712"
      ]
     },
     "execution_count": 76,
     "metadata": {},
     "output_type": "execute_result"
    }
   ],
   "source": [
    "labels = list(crf.classes_)\n",
    "labels.remove('O')\n",
    "y_pred = crf2.predict(X_test)\n",
    "metrics.flat_f1_score(y_test, y_pred,\n",
    "                      average='weighted', labels=labels)"
   ]
  },
  {
   "cell_type": "code",
   "execution_count": 77,
   "metadata": {},
   "outputs": [
    {
     "data": {
      "text/plain": [
       "0.9826138750195242"
      ]
     },
     "execution_count": 77,
     "metadata": {},
     "output_type": "execute_result"
    }
   ],
   "source": [
    "labels = list(crf.classes_)\n",
    "labels.remove('O')\n",
    "y_pred = crf3.predict(X_test)\n",
    "metrics.flat_f1_score(y_test, y_pred,\n",
    "                      average='weighted', labels=labels)"
   ]
  },
  {
   "cell_type": "code",
   "execution_count": 120,
   "metadata": {},
   "outputs": [],
   "source": [
    "from collections import Counter"
   ]
  },
  {
   "cell_type": "code",
   "execution_count": 121,
   "metadata": {},
   "outputs": [
    {
     "name": "stdout",
     "output_type": "stream",
     "text": [
      "Top positive:\n",
      "375.728427 NEWLINE  word.lower():#n\n",
      "375.728427 NEWLINE  word[-3:]:#n\n",
      "375.728427 NEWLINE  word[-2:]:#n\n",
      "300.489408 TEST_UNIT word[-2:]:dL\n",
      "297.469833 TEST_VALUE +1:word.lower():1hpf\n",
      "252.056174 O        bias\n",
      "233.256501 TEST_UNIT -1:word.lower():/\n",
      "223.111533 TEST_RANGE +1:word.lower():–\n",
      "216.054682 TEST_UNIT word[-2:]:/L\n",
      "214.271245 O        BOS\n",
      "213.555587 TEST_NAME is_name()\n",
      "201.607587 TEST_VALUE +1:word.lower():negative\n",
      "198.444418 O        -1:word.lower():*\n",
      "193.976410 TEST_RANGE +1:word.lower():-\n",
      "188.120328 TEST_VALUE +1:word.lower():420\n",
      "185.171425 TEST_VALUE -1:word.lower():male\n",
      "185.072107 TEST_NAME +1:word.lower():pct\n",
      "176.448998 TEST_NAME +1:word.lower():low\n",
      "172.746509 TEST_RANGE -1:word.lower():>\n",
      "172.434603 TEST_NAME -1:word.lower():(calc)\n",
      "169.919898 TEST_NAME -1:word.lower():.\n",
      "169.633028 TEST_UNIT word[-2:]:uL\n",
      "168.376331 TEST_VALUE -1:word.lower():erythrocytes\n",
      "167.123851 TEST_NAME -1:word.lower():trisomy\n",
      "166.136445 O        +1:word.lower():000-\n",
      "163.186758 TEST_RANGE +1:word.lower():=\n",
      "158.472480 TEST_NAME +1:word.lower():serum\n",
      "158.387301 O        +1:word.lower():202017:07\n",
      "155.859026 TEST_RANGE -1:word.lower():-\n",
      "155.672602 TEST_RANGE +1:word.lower():ild/moderate\n",
      "152.599084 TEST_RANGE word[+3:]:-\n",
      "152.166948 TEST_NAME +1:word.lower():|\n",
      "152.096292 TEST_RANGE -1:word.lower():(pb)\n",
      "152.004267 TEST_UNIT -1:word.lower():x10\n",
      "150.512356 TEST_VALUE +1:word.lower():2hpf\n",
      "150.329480 TEST_UNIT word[-2:]:L)\n",
      "148.841226 O        word[-2:]:¹¤\n",
      "148.183881 TEST_RANGE +1:word.lower():o1\n",
      "147.872206 TEST_RANGE -1:word.lower():average\n",
      "146.643068 TEST_UNIT word[-2:]:UL\n",
      "146.581074 TEST_RANGE -1:word.lower():up\n",
      "146.482685 TEST_UNIT word[-3:]:/uL\n",
      "144.631494 TEST_VALUE word.lower():o1\n",
      "142.395885 TEST_NAME word.isupper()\n",
      "142.135999 TEST_UNIT word[-2:]:mg\n",
      "141.386316 TEST_VALUE word[+3:]:0\n",
      "140.243230 O        -1:word.lower():syndrome\n",
      "140.204230 TEST_UNIT +1:word.lower():/\n",
      "139.356188 TEST_RANGE -1:word.lower():x10e3/ul\n",
      "139.283265 O        word[-3:]:988\n",
      "\n",
      "Top negative:\n",
      "-131.957262 TEST_NAME -1:word.lower():/\n",
      "-133.046313 O        +1:word.lower():)\n",
      "-136.370926 TEST_VALUE -1:word.lower():trisomy\n",
      "-137.065359 O        word[-2:]:/L\n",
      "-139.470239 TEST_RANGE +1:word.lower():1hpf\n",
      "-140.059754 TEST_VALUE word.lower():#n\n",
      "-140.059754 TEST_VALUE word[-3:]:#n\n",
      "-140.059754 TEST_VALUE word[-2:]:#n\n",
      "-140.328824 O        +1:word.lower():percentile\n",
      "-142.509054 O        -1:word.lower():¶ù\n",
      "-142.739406 O        -1:word.lower():erythrocytes\n",
      "-144.872954 O        -1:word.lower():average\n",
      "-147.169209 O        word[+3:]:L\n",
      "-151.131789 O        +1:word.lower():ild/moderate\n",
      "-154.123533 O        word[+2:]:8\n",
      "-156.025379 O        +1:word.lower():methodology:\n",
      "-157.922021 NEWLINE  bias\n",
      "-161.034061 TEST_UNIT -1:word.lower():9\n",
      "-163.736073 TEST_VALUE -1:word.lower():*\n",
      "-165.454634 O        -1:word.lower():male\n",
      "-165.925970 O        word[-2:]:.6\n",
      "-169.408157 NEWLINE  +1:word.lower():low\n",
      "-177.449259 TEST_VALUE +1:word.lower():–\n",
      "-177.861411 O        word[-2:]:.8\n",
      "-178.406983 NEWLINE  -1:word.lower():syndrome\n",
      "-207.344142 O        word[-2:]:dL\n",
      "-217.882888 TEST_VALUE is_name()\n",
      "-218.268635 TEST_NAME -1:word.lower():basophils\n",
      "-235.509695 TEST_VALUE -1:word.lower():-\n",
      "-236.736037 TEST_VALUE +1:word.lower():-\n"
     ]
    }
   ],
   "source": [
    "def print_state_features(state_features):\n",
    "    for (attr, label), weight in state_features:\n",
    "        print(\"%0.6f %-8s %s\" % (weight, label, attr))\n",
    "\n",
    "print(\"Top positive:\")\n",
    "print_state_features(Counter(crf.state_features_).most_common(50))\n",
    "\n",
    "print(\"\\nTop negative:\")\n",
    "print_state_features(Counter(crf.state_features_).most_common()[-30:])\n",
    "\n"
   ]
  },
  {
   "cell_type": "code",
   "execution_count": null,
   "metadata": {},
   "outputs": [],
   "source": []
  },
  {
   "cell_type": "code",
   "execution_count": null,
   "metadata": {},
   "outputs": [],
   "source": []
  },
  {
   "cell_type": "code",
   "execution_count": 113,
   "metadata": {},
   "outputs": [],
   "source": [
    "from datetime import datetime\n",
    "now=datetime.now()"
   ]
  },
  {
   "cell_type": "code",
   "execution_count": 114,
   "metadata": {},
   "outputs": [],
   "source": [
    "now=now.strftime(\"%Y-%m-%d\")"
   ]
  },
  {
   "cell_type": "code",
   "execution_count": 115,
   "metadata": {},
   "outputs": [],
   "source": [
    "import pickle\n",
    "filename = now+'_crf_model.sav'\n",
    "pickle.dump(crf, open(filename, 'wb'))"
   ]
  },
  {
   "cell_type": "code",
   "execution_count": 143,
   "metadata": {},
   "outputs": [],
   "source": [
    "import pickle\n",
    "filename = '2020-05-04_crf_model.sav'\n",
    "crf=pickle.load(open(filename, 'rb'))"
   ]
  },
  {
   "cell_type": "code",
   "execution_count": 144,
   "metadata": {},
   "outputs": [],
   "source": [
    "def test_word2features(sent, i):\n",
    "    word = sent[i][0]\n",
    "    postag = sent[i][1]\n",
    "    features = {\n",
    "          'bias': 1.0,\n",
    "        'word.lower()': word.lower(),\n",
    "        'word[-3:]': word[-3:],\n",
    "        'word[-2:]': word[-2:],\n",
    "        'word.isupper()': word.isupper(),\n",
    "        'word.istitle()': word.istitle(),\n",
    "        'word.isdigit()': word.isdigit(),\n",
    "        'postag': postag,\n",
    "         'postag[:2]': postag[:2],\n",
    "         'word[+3:]': word[+3:],\n",
    "             'word[+2:]': word[+2:],\n",
    "     #    'is_unit()': is_unit(word),\n",
    "          'is_range_cat()': is_range_cat(word),\n",
    "         'is_name()': is_name(word)\n",
    "    }\n",
    "    if i > 0:\n",
    "        word1 = sent[i-1][0]\n",
    "        postag1 = sent[i-1][1]\n",
    "        features.update({\n",
    "            '-1:word.lower()': word1.lower(),\n",
    "            '-1:word.istitle()': word1.istitle(),\n",
    "            '-1:word.isupper()': word1.isupper(),\n",
    "            '-1:word.isdigit()': word1.isdigit(),\n",
    "        '-1:is_name()': is_name(word1)\n",
    "        })\n",
    "    else:\n",
    "        features['BOS'] = True\n",
    "\n",
    "    if i < len(sent)-1:\n",
    "        word1 = sent[i+1][0]\n",
    "        postag1 = sent[i+1][1]\n",
    "        features.update({\n",
    "            '+1:word.lower()': word1.lower(),\n",
    "            '+1:word.istitle()': word1.istitle(),\n",
    "            '+1:word.isupper()': word1.isupper(),\n",
    "           '+1:word.isdigit()': word1.isdigit(),\n",
    "            '+1:is_name()': is_name(word1)\n",
    "        })\n",
    "    else:\n",
    "        features['EOS'] = True\n",
    "\n",
    "    return features\n",
    "\n",
    "\n",
    "def test_sent2features(sent):\n",
    "    return [test_word2features(sent, i) for i in range(len(sent))]\n",
    "\n",
    "\n",
    "# def sent2tokens(sent):\n",
    "#     return [token for token, label, postag in sent]"
   ]
  },
  {
   "cell_type": "markdown",
   "metadata": {},
   "source": [
    "# Mapping to LOINCID"
   ]
  },
  {
   "cell_type": "code",
   "execution_count": 117,
   "metadata": {},
   "outputs": [],
   "source": [
    "loinc =pd.read_csv('LoincTableCore.csv')"
   ]
  },
  {
   "cell_type": "code",
   "execution_count": 118,
   "metadata": {},
   "outputs": [],
   "source": [
    "loinc=loinc[['LOINC_NUM','COMPONENT']]"
   ]
  },
  {
   "cell_type": "code",
   "execution_count": 119,
   "metadata": {},
   "outputs": [],
   "source": [
    "loinc=dict(zip(loinc.COMPONENT, loinc.LOINC_NUM))"
   ]
  },
  {
   "cell_type": "code",
   "execution_count": 120,
   "metadata": {},
   "outputs": [],
   "source": [
    "def post_process(results):\n",
    "    for record in results:\n",
    "        if 'TEST_NAME' in record:\n",
    "\n",
    "            name=re.sub(r'((10)\\s?\\^\\s?[1-9]\\s?(/[Uu]?[lL])?)|((10)?\\s?~?\\s?\\d/[Uu]?[Ll]$)|(\\d*/[a-zA-Z]?[Ll])|(\\d*\\.?\\d*\\s?[-|—|>|<|=|-—|–|-]\\s?\\d+\\.?\\d*)', '', record['TEST_NAME'])\n",
    "            name=name.strip(':')\n",
    "            if (not re.match('^\\d+\\.*\\d*$',name)):\n",
    "                record['TEST_NAME']=name\n",
    "            else: record['TEST_NAME']= ''\n",
    "            if name in loinc.keys():\n",
    "                record['LOINC_ID']=loinc[name]\n",
    "\n",
    "        if 'TEST_RANGE' in record:\n",
    "            ranges=re.findall(r'\\d*\\.?\\d*\\s?/?\\d*\\s?[-|—|=|-—|–|-]\\s?\\d*\\.?\\d+/?\\d*|[Uu][Pp]\\s?[Tt][Oo0]\\s?\\d+|greater\\s?than\\s?\\d*\\.?\\d+/?\\d*|less\\s?than\\s?\\d*\\.?\\d+/?\\d*|[<|>]\\s?\\d*\\.?\\d+/?\\d*', record['TEST_RANGE'],re.IGNORECASE)\n",
    "          \n",
    "            if (ranges):\n",
    "                record['TEST_RANGE']=ranges[0]\n",
    "            else:\n",
    "                record['TEST_RANGE']=''\n",
    "        if 'TEST_VALUE' in record:\n",
    "\n",
    "            values=re.findall(r'\\w*\\.?\\w+\\s?[a-zA-Z]*',record['TEST_VALUE'])\n",
    "            if (values):\n",
    "\n",
    "                record['TEST_VALUE']=values[0]\n",
    "    return results\n",
    "        \n",
    "    "
   ]
  },
  {
   "cell_type": "code",
   "execution_count": null,
   "metadata": {},
   "outputs": [],
   "source": []
  },
  {
   "cell_type": "code",
   "execution_count": 135,
   "metadata": {},
   "outputs": [],
   "source": [
    "tests=['TEST_UNIT:', 'TEST_VALUE:', 'TEST_RANGE:','TEST_RANGE_CATEGORY:']\n",
    "from itertools import groupby\n",
    "from operator import itemgetter\n",
    "def extract_entities(doc):\n",
    "        import re\n",
    "        chars = crf_module_vocab['chars']\n",
    "        for i in chars:\n",
    "            doc = re.sub(i, str(\" \" + i + \" \"), doc)\n",
    "        doc=re.sub('\\\\n', str(\" #n \"), doc)\n",
    "        doc = re.sub(\"\\(\", \" (\", doc)\n",
    "        doc = re.sub(\"\\)\", \") \", doc)\n",
    "        doc = re.sub(\"\\\\xa0\", \" \", doc)\n",
    "        \n",
    "        v_x = [i for i in doc.split(' ') if (i)]\n",
    "        pos = [nltk.pos_tag([x])[0][1] for x in v_x]\n",
    "\n",
    "        test_x = list(zip(v_x, pos))\n",
    "        \n",
    "        X = [test_sent2features(s) for s in [test_x]]\n",
    "        \n",
    "        y = crf.predict(X)[0]\n",
    "       \n",
    "        \n",
    "        res = ' '\n",
    "        for k, g in groupby(zip(y, v_x), itemgetter(0)):\n",
    "            res = res + k + ': ' + ' '.join(i for i in list(list(zip(*g))[1])) + ' '\n",
    "        \n",
    "        \n",
    "        \n",
    "        lines = [\"NEWLINE:\" + i for i in res.split(\"NEWLINE:\")]\n",
    "        results=[]\n",
    "        print(lines)\n",
    "        for newline in lines:\n",
    "            if 'TEST_NAME' in newline:\n",
    "                result = [\"TEST_NAME:\" + i for i in newline.split(\"TEST_NAME:\")][1:]\n",
    "\n",
    "                print(result)\n",
    "                for i in result:\n",
    "                    lab={}\n",
    "                    if any(c in i for c in tests):\n",
    "                        lab['TEST_NAME']=i.split('TEST_NAME: ')[1].split(' TEST_')[0].split(' O: ')[0]\n",
    "                        if 'TEST_UNIT' in i:\n",
    "                            lab['TEST_UNIT']=i.split('TEST_UNIT: ')[1].split(' TEST_')[0].split(' O: ')[0]\n",
    "                        if 'TEST_RANGE:' in i:\n",
    "                            pattern=i.split('TEST_RANGE: ')[1].split(' TEST_')[0].split(' O: ')\n",
    "                            lab['TEST_RANGE']=pattern[0]\n",
    "\n",
    "                            if (re.match('^\\d*\\.?\\d+$',lab['TEST_RANGE'])):\n",
    "                                if len(pattern)>1:\n",
    "                                    O=pattern[1]\n",
    "                                    partial=re.findall('^[-|=|~|—|—|-|–|-]\\s?\\d+',O)\n",
    "                                    if len(partial)>0:\n",
    "                                        lab['TEST_RANGE']=lab['TEST_RANGE']+partial[0]\n",
    "\n",
    "\n",
    "\n",
    "                            elif (re.match('^\\d*\\.?\\d+\\s?[-|=|—|—|-|–|-]$',lab['TEST_RANGE'])):\n",
    "                                if len(i.split('TEST_UNIT:'))>2:\n",
    "                                    unit_pattern=i.split('TEST_RANGE: ')[1].split(' TEST_UNIT: ')\n",
    "                                    if len(unit_pattern)>1:\n",
    "                                        partial=re.findall('^\\s?\\d*\\.?\\d+',unit_pattern[1])\n",
    "                                        if len(partial)>0:\n",
    "                                            lab['TEST_RANGE']=lab['TEST_RANGE']+partial[0]\n",
    "                                \n",
    "\n",
    "                        if 'TEST_VALUE' in i:\n",
    "                            lab['TEST_VALUE']=i.split('TEST_VALUE: ')[1].split(' TEST_')[0].split(' O: ')[0]\n",
    "                        if 'TEST_RANGE_CATEGORY' in i:\n",
    "                            lab['TEST_RANGE_CATEGORY']=i.split('TEST_RANGE_CATEGORY: ')[1].split(' TEST_')[0].split(' O: ')[0]\n",
    "                        results.append(lab)\n",
    "        #print(results)\n",
    "        processed_results=post_process(results)\n",
    "        return(processed_results)\n",
    "    "
   ]
  },
  {
   "cell_type": "code",
   "execution_count": null,
   "metadata": {},
   "outputs": [],
   "source": []
  },
  {
   "cell_type": "code",
   "execution_count": null,
   "metadata": {},
   "outputs": [],
   "source": []
  },
  {
   "cell_type": "code",
   "execution_count": 121,
   "metadata": {},
   "outputs": [],
   "source": [
    "tests=['TEST_UNIT:', 'TEST_VALUE:', 'TEST_RANGE:','TEST_RANGE_CATEGORY:']\n",
    "from itertools import groupby\n",
    "from operator import itemgetter\n",
    "def extract_entities(doc):\n",
    "        import re\n",
    "        chars = crf_module_vocab['chars']\n",
    "        for i in chars:\n",
    "            doc = re.sub(i, str(\" \" + i + \" \"), doc)\n",
    "        doc=re.sub('\\\\n', str(\" #n \"), doc)\n",
    "        doc = re.sub(\"\\(\", \" (\", doc)\n",
    "        doc = re.sub(\"\\)\", \") \", doc)\n",
    "        doc = re.sub(\"\\\\xa0\", \" \", doc)\n",
    "        \n",
    "        v_x = [i for i in doc.split(' ') if (i)]\n",
    "        pos = [nltk.pos_tag([x])[0][1] for x in v_x]\n",
    "\n",
    "        test_x = list(zip(v_x, pos))\n",
    "        \n",
    "        X = [test_sent2features(s) for s in [test_x]]\n",
    "        \n",
    "        y = crf.predict(X)[0]\n",
    "        for i in range(1,len(y)):\n",
    "            if y[i]=='NEWLINE':\n",
    "                if y[i-1]=='TEST_NAME' and y[i+1]=='TEST_NAME':\n",
    "                    y[i]=='SPLITLINE'\n",
    "        \n",
    "        res = ' '\n",
    "        for k, g in groupby(zip(y, v_x), itemgetter(0)):\n",
    "            res = res + k + ': ' + ' '.join(i for i in list(list(zip(*g))[1])) + ' '\n",
    "        \n",
    "        res=re.sub(\"NEWLINE: #n\",'',res)\n",
    "        \n",
    "        print(res)\n",
    "        \n",
    "        lines = [\"SPLITLINE:\" + i for i in res.split(\"SPLITLINE:\")]\n",
    "        results=[]\n",
    "        \n",
    "        for newline in lines:\n",
    "            if 'TEST_NAME' in newline:\n",
    "                result = [\"TEST_NAME:\" + i for i in newline.split(\"TEST_NAME:\")][1:]\n",
    "\n",
    "                \n",
    "                for i in result:\n",
    "                    lab={}\n",
    "                    if any(c in i for c in tests):\n",
    "                        lab['TEST_NAME']=i.split('TEST_NAME: ')[1].split(' TEST_')[0].split(' O: ')[0]\n",
    "                        if 'TEST_UNIT' in i:\n",
    "                            lab['TEST_UNIT']=i.split('TEST_UNIT: ')[1].split(' TEST_')[0].split(' O: ')[0]\n",
    "                        if 'TEST_RANGE:' in i:\n",
    "                            pattern=i.split('TEST_RANGE: ')[1].split(' TEST_')[0].split(' O: ')\n",
    "                            lab['TEST_RANGE']=pattern[0]\n",
    "\n",
    "                            if (re.match('^\\d*\\.?\\d+$',lab['TEST_RANGE'])):\n",
    "                                if len(pattern)>1:\n",
    "                                    O=pattern[1]\n",
    "                                    partial=re.findall('^[-|=|~|—|—|-|–|-]\\s?\\d+',O)\n",
    "                                    if len(partial)>0:\n",
    "                                        lab['TEST_RANGE']=lab['TEST_RANGE']+partial[0]\n",
    "\n",
    "\n",
    "\n",
    "                            elif (re.match('^\\d*\\.?\\d+\\s?[-|=|—|—|-|–|-]$',lab['TEST_RANGE'])):\n",
    "                                if len(i.split('TEST_UNIT:'))>2:\n",
    "                                    unit_pattern=i.split('TEST_RANGE: ')[1].split(' TEST_UNIT: ')\n",
    "                                    if len(unit_pattern)>1:\n",
    "                                        partial=re.findall('^\\s?\\d*\\.?\\d+',unit_pattern[1])\n",
    "                                        if len(partial)>0:\n",
    "                                            lab['TEST_RANGE']=lab['TEST_RANGE']+partial[0]\n",
    "                                \n",
    "\n",
    "                        if 'TEST_VALUE' in i:\n",
    "                            lab['TEST_VALUE']=i.split('TEST_VALUE: ')[1].split(' TEST_')[0].split(' O: ')[0]\n",
    "                        if 'TEST_RANGE_CATEGORY' in i:\n",
    "                            lab['TEST_RANGE_CATEGORY']=i.split('TEST_RANGE_CATEGORY: ')[1].split(' TEST_')[0].split(' O: ')[0]\n",
    "                        results.append(lab)\n",
    "        #print(results)\n",
    "        processed_results=post_process(results)\n",
    "        return(processed_results)\n",
    "    "
   ]
  },
  {
   "cell_type": "code",
   "execution_count": null,
   "metadata": {},
   "outputs": [],
   "source": []
  },
  {
   "cell_type": "code",
   "execution_count": null,
   "metadata": {},
   "outputs": [],
   "source": []
  },
  {
   "cell_type": "code",
   "execution_count": 125,
   "metadata": {},
   "outputs": [],
   "source": [
    "doc='25 Name :Mr. ANWAR ALI SAEED MUHAMMAD Lab No :LAB5394796 Validated :12-01-202001:59 Age/Sex: 54Y M Visit No :IN433700 Reported : 12-01-202009:24 MR No :UA0100000578466 Referred By:Dr. Abid Ali Anwaar Printed On:13-01-202013:52 Laboratory Report Biochemistry Test Description Result Units Reference Range Lipid Profile,Serum Sampled:11-01-202017:07 LDL 2.37 mmol/L Optimal: Less than 2.6 Methodology:Bichromatic End Point Near OptimallAbove Optimal: 2.6-3.3 Borderline High: 3.4.4.1 High: 4.1-4.9 Very High:More than 4.9 Triglycerides,Serum 2.17 mmolL Normal: <1.70 Methodology: Enzymatic, end point Borderline Hih:1.70.2.25 High:2.26.5.64 Very High:>5.65 Cholesterol 4.20 mmolL Desirable: <5.2 Methocology: Cholesterol Oxidase Borderline High: 5.2-6.2 High:>6.2 HDL. 1.19 mmolL Low HDL:<1.04 Methodology: Direct HDL,PEGME High HDL: >1.55 Perf.center-NuC Royal Sampled:11-01-202017:07 Vitamin D(25-Hydroxy Cholecalciferol), 10.85 ng/ml Deficiency: <20 Serum Insufficiency:20-30 Sufficiency: 30-100 Methodology:Chemituminisence. . Toxicity: >100 Perf.center-NMC Royal Sampled:11-01-202017:07 Vitamin B12, Serum 337 pgiml 211.911 Methodology: Chemiluminescence Perf.Center-NvC Royal Sampled:11-01-202017:07 SGPT(ALT), Serum 51 UIL 0-63 Methodology:IFCC Perf.Center.NMC Royal Sampled:11-01-202017:07 Uric Acid, Serum 5.8 mgldl 3.5-7.2 Methodology: Uricase (1 mgldL-59.48 umol/L) Perf.Center-NMC Royal Electrolyte Profile(Na, K,CI), Serum Sampled:11-01-202017:07 Bicarbonate, Serum 29.1 mmol/L 21-32 Methodology: Enzymatic Cl 105 mmolL 98-107 Methodology: ISE.Indirect Pase 1of2'"
   ]
  },
  {
   "cell_type": "code",
   "execution_count": 128,
   "metadata": {},
   "outputs": [],
   "source": [
    "doc='Verizon E 11:40 PM 95% Touch to resume FaceTime 01:52 8 C #n . #n t1 0 u Twt inormston pano! #n Pitint N e Rim J ester Ordering h kbn S ve eMoRE MD o h 10121986 Qinic hform lion Pron h.0b/Grn ABOUT THIS SCREEN Pano TU 5 #n M tend AE EDo: 32 Physicn Partners.D M REC40134 test no diornostic tvhwarnek #n GestRionolA e: 16w d30d n emlbbod . mitu Addtbnal Reports 706 - 208305 and dxent DNA 10 Ce0 #n tenu Wei e 19705 ReportDte 1101/2018 Enormites The #n Cchccton r 55104152N sptdfk chromosome #n Reterence D 6520216 - 2 - N Samples Colected 10/222013 NOT tel withcertinty aleusisatete teih to.. condtions crcr P . #n Aceisenh ID R184512 Samples Recehed 10/25/2010 red proMdE A #n Gr eID Moue Blood o.Abw rhk resur ooe notu 2104159 unuffected letur #n FINAL RESULTS SUMMARY #n Reur Fetol Sax Fetal Froction #n LOW RISK Male 9.1% 0 #n RESULT DETAILS: ANEUPLOIDIES #n Condfition tested Result Risk Before Test Risk After Test #n TriS0my21 Low Risk 1/518 < 1/10.000 #n Trisomy 18 Low Risk 1/1549 < 1/10,000 #n Trisomy13 Low Risk 1/4766 < 1/10.000 #n MonosomyX Low Risk 1/568 < 1/10.000 #n Tripoidy Low Risk #n RESULT DETAILS:MICRO DELETIONS #n Condition tested Result Risk Before Test Risk After Test #n 22q112 dclction syndrome Low Risk 1/2.000 1/9.000 #n 1Ed ,c nsoihtln ostxk audm 2Eed onnderal re oonl se dlor renenl popbrn pplabh Rtwrn huy 1 o y opaatesrea54o hD a n u pb d14 117825wo n0re A 1Obnet cw #n 21597 37 a portd p h r and wv bw a tenal sseih uskd n thiscky on o a ne , nor ea 1 ko d dulon pblhed ud Morinena Qnc s42017 11Woc r a eo wncorppntesrewsponhP e #n Qrrcnol 2o1sM 212013.1s1ndr. pp d pvo A w nwvrb n o ode o #n sabro D FF.inom ÉÏ dl 2 hr neter mwy rot refect the ol Wor na prntn knrn Erord fndn erovbnnhiton w not hdudedh th na nment #n a h btros 6 0 0 #n A : 2 s D 0 D 0 2 ulc D ~ #n F THE OPDENC PROADCR ASQUESTONS OR WENESTO DICUSS TIE RE CATS EASE CONTACTUS AT 50249 001A1a MpT ertk canb #n ¿Ú 22 2 1 : #n < #n'"
   ]
  },
  {
   "cell_type": "code",
   "execution_count": 131,
   "metadata": {},
   "outputs": [],
   "source": [
    "doc='LabCorp\\n \\n Specimen ID: Acct #: 17452095 Phone: (800)539-6119 Rte: 00\\n Control ID: Walk-In Lab, LLC\\n VART verified\\n \\n  \\n \\n 169 W Augusta Lane\\n SLIDEbitbA Z045€ x ILE XL UTIL IL XX LITITI1\\n \\n  \\n \\n Patient Details Specimen Details Physician Details\\n DOB: Date collected: Ordering: J BHAN\\n Age(y/m/d): Date entered: Referring:\\n Gender: SSN: Date reported: ID: 1841295896\\n Patient ID: NPI: 1841295896\\n General Comments & Additional Information\\n Alternate Control Number: Alternate Patient ID: Not Provided\\n Total Volume: Not Provided Fasting: Yes\\n \\n Ordered Items\\n \\n CBC With Differential/Platelet; Comp. Metabolic Panel (14); Lipid Panel w/ Chol/HDL Ratio; Testosterone,Free and Total; Hemoglobin\\n Aic; DHEA-Sulfate; TSH; Estradiol; Prostate-Specific Ag, Serum; C-Reactive Protein, Cardiac; Homocyst(e)ine, Plasma; Fibrinogen\\n Activity; Venipuncture\\n \\n  \\n \\n CBC With Differential/Platelet\\n \\n  \\n \\n  \\n \\n  \\n \\n  \\n \\n  \\n \\n  \\n \\n  \\n \\n WBC 7.4 x1lOE3/uL Beth — 1058 0\\n RBC 5.62 xlOE6/uL 4.14 - 5.80 0\\n Hemoglobin 16.8 g/dL L2.6 — Lasd 0\\n Hematocrit 48.4 & 37.5 — 51.0 0\\n CV 86 £L Fo = OF 0\\n GH Cig eg 26:6 — 3350 0\\n GHC 34.7 g/dL SI et = Bbs i 0\\n RDW de BewG & Zee = 15.4 0\\n Platelets 303 xLOE3/uL LO — 879 0\\n eutrophils 47 & 0\\n Lymphs 46 & 0\\n onocytes 6 & 0\\n Eos 1 & 0\\n Basos 0 & 0\\n eutrophils (Absolute) 3.4 x10E3/uL ck afl, * shel) 0\\n Lymphs. (Absolute) 3.4 High x1lOE3/uL DOF = Bal 0\\n onocytes (Absolute) 0.5 x10E3/uL O.L = 6.9 0\\n Eos (Absolute) OT x10E3/uL 0.0 - 0.4 0\\n Baso (Absolute) 0.0 Xx10E3/uL O20 = O.2 0\\n mmnature Granulocytes 0 & 0\\n mmature Grans (Abs) 0.0 x10E3/uL 0.0 - 0.1 0\\n Comp. Metabolic Panel (14)\\n Glucose, Serum o7 mg/dL 65 - 99 0\\n BUN 18 mg/dL 6 - 24 0\\n Creatinine, Serum A. LB mg/dL Ow FCS dei 0\\n eGFR If NonAfricn Am F2 mL/min/1.73 >59\\n eGFR If Africn Am 83 mL/min/1.73 >59\\n Date Issued: 03/04/16 1622 ET FINAL REPORT Page 1 off\\n This document contains private and confidential health information protected by state and federal law. © 1995-2016 Laboratory Corporation of America®Holdings\\n \\n If you have received this document in error, please call 800-762-4344 All Rights Reserved- Enterprise Report Version: 1.00\\n x10E3/uL\\n 3.4 - 10.8\\n x10E6/uL\\n 12.6 - 17.7\\n % \\n MCV fL 79 - 97\\n MCH 29.9 pg 26.6 - 33.0\\n MCHC 31.5 - 35.7\\n 13.8 % 12.3 - 15.4\\n x10E3/uL 150 - 379\\n Neutrophils % \\n Monocytes %\\n Neutrophils (Absolute) 1.4 - 7.0\\n x10E3/uL 0.7 - 3.1\\n Monocytes (Absolute) 0.1 - 0.9\\n 0.1 \\n 0.0 - 0.2\\n Immature Granulocytes %\\n Immature Grans (Abs) \\n 97\\n 1.18 0.76 - 1.27\\n 72'"
   ]
  },
  {
   "cell_type": "code",
   "execution_count": 134,
   "metadata": {},
   "outputs": [],
   "source": [
    "data='Hemoglobin 12 11.0-16.0 9/dL RBC 3.3 3.5-5.50 10 6/UL HCT 36 37.0-50.0 % MC 83 82-95 1 8 27-31 MCH 2 D9 MCHC 33 32.0-36.0 9/dL RDW-CV 12 11.5-14.5 % RDW-SD 44 35-56 6.7 4.5-11 10^3雹 WBC NEU% 60 40-70 30 20-45 % LYM % 8 2.10 % MON6 2 1-6 % EOS% 0-2 9% BAS% 0 1.5-4.0 10^3 L LYM# 2 2.0-7.5 10 3/UL GRA# 4.7 150-450 10~3/UL 256 PLT 2 Up to 15 mm/hr ESR Digitally signed by D:Cameron Cordara GNU Public Key:E44311F4 Testid:B165AAF4'"
   ]
  },
  {
   "cell_type": "code",
   "execution_count": 137,
   "metadata": {},
   "outputs": [],
   "source": [
    "data='Name A/c Status Lab No. Ref By : Age: Gender: Report Status Reported Received Collected P : : : : : : : Final 50 Years 29/5/2018 1:52:00PM 29/5/2018 2:00:51PM 139653126 Female Dr. UNKNWON DUMMY 29/5/2018 5:04:45PM Test Name Results Units Bio. Ref. Interval URINE EXAMINATION, ROUTINE; URINE, R/E (Automated Strip Test, Microscopy) Physical Colour Pale Yellow Pale yellow Specific Gravity 1.010 1.001 - 1.030 pH 5.5 5.0 - 8.0 Chemical Proteins Nil Nil Glucose Nil Nil Ketones Nil Nil Bilirubin Nil Nil Urobilinogen Normal Normal Leucocyte Esterase Negative Negative Nitrite Negative Negative Microscopy R.B.C. Negative Negative Pus Cells Negative 0-5 WBC / hpf Epithelial Cells Few Few Casts Nil Nil /lpf Crystals Nil Nil Others Nil -'"
   ]
  },
  {
   "cell_type": "code",
   "execution_count": 232,
   "metadata": {},
   "outputs": [],
   "source": [
    "doc='IHEMATOLOGY CBC W/ Differential, w Platelet \\n WBC 4.9 4.0-11.0 k mm3 RBC 5.71 4.30-6.00 m/mm3 Hemoglobin 17.0 13.0-18.0 q1dL Hematocrit 52.7 40.0-53.0 % MCV 92.3 78.0-100.0 fL MCH 29.8 27.0-34.0 pg MCHC 3 3 31.0-37.0 gldL Platelet Count 201 130-450 k/imm3 38.0-49.0 fL 口 D w SO) 45 RD W(CV) 13 11.0-15.0 % MPV 11.0 7.5-14.0 fL Seg mented Neutrophils 48.0* % Lymphocytes 37.5. % M onocytes 9.8 % Eosinophils 2 Basophils 0.6 % Absolute Neutrophil 2.36 1.60-9.30 k uL Absolute Lymphocyte 1.84 0.60-5.50 k/uL Absolute Monocyte 0.48 0.10-1.60 K/uL Absolute Eosinophi 0.14 0.00-0.70 k/uL Absolute Basophil 0.03 0.00-0.20 k/uL I m mature Granulocytes 1.2 % Absolute Immature Granulocytes 0.06 0.00-0.10 K/uL NRBC RE,Nucleated Red Blood Cell Percent 0.0 0.0-1.0 % *Seq mented Automated Diff Neutrophils:'"
   ]
  },
  {
   "cell_type": "code",
   "execution_count": 160,
   "metadata": {},
   "outputs": [],
   "source": [
    "doc=\"Hematology\\nTest Description\\nResult Units Reference Range\\nComplete Blood Count, Whole Blood Sampled:18-01-202010:21\\nHaemoglobin:\\n15.9 gm/dL 13-17M\\nMethodology:SLS Method 14-22 Birth 11.5-16.51m 11.0-14.03m-6yr 11.5-15.56-12yr\\nWBC Count, Total:\\n8.4 X109L 4-10 x109/L\\nMethodology: Fluorescent Flow Cytometry 10-26birth 5-191m 6-183-6m 6-161yr 5-152-6yrs 5-136-12y\\nRBC Count\\n5.8 X1012L 4.5-5.5X1012/L\\nMethodology:DC Sheath Flow Detection 5-6 birth 3-5.41m 3.9-5.3 3m-12y\\nPlatelets:\\n257 X109L 150-410X109L 1\\nMethodology: DC Sheath Flow Detection 100.450 birth 200-5001m 210-6502m 200-5503m-1y 200-490 2-6y 170-4506-12y ..\\nHaematocrit(PCV):\\n47 % 40-50%\\nMethodology: Automated Impedence Technology 45-75 birth 33-531m 30-40 3m-6y 35-456-12y\\nMean Corpuscular Volume(MCV):\\n81 fL 83-101fL\\nMethodology: Calculated 100-120 Birth 92-1161m 68-843m-1y 75-872-6y 77-956-12y\"\n",
    "\n"
   ]
  },
  {
   "cell_type": "code",
   "execution_count": 156,
   "metadata": {},
   "outputs": [
    {
     "data": {
      "text/plain": [
       "'Hematology\\nTest Description\\nResult Units Reference Range\\nComplete Blood Count, Whole Blood Sampled:18-01-202010:21\\nHaemoglobin:\\n15.9 gm/dL 13-17M\\nMethodology:SLS Method 14-22 Birth 11.5-16.51m 11.0-14.03m-6yr 11.5-15.56-12yr\\nWBC Count, Total:\\n8.4 X109L 4-10 x109/L\\nMethodology: Fluorescent Flow Cytometry 10-26birth 5-191m 6-183-6m 6-161yr 5-152-6yrs 5-136-12y\\nRBC Count\\n5.8 X1012L 4.5-5.5 X1012/L\\nMethodology:DC Sheath Flow Detection 5-6 birth 3-5.41m 3.9-5.3 3m-12y\\nPlatelets:\\n257 X109L 150-410X109L 1\\nMethodology: DC Sheath Flow Detection 100.450 birth 200-5001m 210-6502m 200-5503m-1y 200-490 2-6y 170-4506-12y ..\\nHaematocrit(PCV):\\n47 % 40-50%\\nMethodology: Automated Impedence Technology 45-75 birth 33-531m 30-40 3m-6y 35-456-12y\\nMean Corpuscular Volume(MCV):\\n81 fL 83-101fL\\nMethodology: Calculated 100-120 Birth 92-1161m 68-843m-1y 75-872-6y 77-956-12y'"
      ]
     },
     "execution_count": 156,
     "metadata": {},
     "output_type": "execute_result"
    }
   ],
   "source": [
    "doc"
   ]
  },
  {
   "cell_type": "code",
   "execution_count": 157,
   "metadata": {},
   "outputs": [],
   "source": [
    "doc1=' '.join(doc.split('\\n'))"
   ]
  },
  {
   "cell_type": "code",
   "execution_count": null,
   "metadata": {},
   "outputs": [],
   "source": []
  },
  {
   "cell_type": "code",
   "execution_count": 161,
   "metadata": {},
   "outputs": [
    {
     "name": "stdout",
     "output_type": "stream",
     "text": [
      " O: Hematology  O: Test Description  O: Result Units Reference Range  O: Complete Blood Count, Whole Blood Sampled:18 - 01 - 202010:21  TEST_NAME: Haemoglobin:  TEST_VALUE: 15.9 TEST_UNIT: gm/dL TEST_RANGE: 13 - 17M  O: Methodology:SLS Method 14 - 22 Birth TEST_RANGE: 11.5 - 16.51m 11.0 - 14.03m - 6yr 11.5 - 15.56 - 12yr  TEST_NAME: WBC Count, Total:  TEST_VALUE: 8.4 TEST_UNIT: X109L TEST_RANGE: 4 - 10 TEST_UNIT: x109/L  O: Methodology: Fluorescent Flow Cytometry TEST_RANGE: 10 - 26birth 5 - 191m 6 - 183 - 6m 6 - 161yr 5 - 152 - 6yrs 5 - 136 - 12y  TEST_NAME: RBC Count  TEST_VALUE: 5.8 TEST_UNIT: X1012L TEST_RANGE: 4.5 O: - TEST_UNIT: 5.5X1012/L  O: Methodology:DC Sheath Flow Detection 5 - 6 birth 3 - 5.41m TEST_RANGE: 3.9 - 5.3 3m - 12y  TEST_NAME: Platelets:  TEST_VALUE: 257 TEST_UNIT: X109L TEST_RANGE: 150 O: - 410X109L 1  O: Methodology: DC Sheath Flow Detection 100.450 birth TEST_RANGE: 200 - 5001m 210 - 6502m 200 - 5503m - 1y 200 - 490 2 - 6y 170 - 4506 O: - 12y ..  TEST_NAME: Haematocrit (PCV) O: :  TEST_VALUE: 47 TEST_UNIT: % TEST_RANGE: 40 - 50%  O: Methodology: Automated Impedence Technology TEST_RANGE: 45 - 75 birth 33 - 531m 30 - 40 3m - 6y 35 - 456 - 12y  TEST_NAME: Mean Corpuscular Volume (MCV) O: :  TEST_VALUE: 81 TEST_UNIT: fL TEST_RANGE: 83 - 101fL  O: Methodology: Calculated TEST_RANGE: 100 - 120 O: Birth 92 - TEST_RANGE: 1161m 68 - 843m - 1y 75 - 872 - 6y 77 - 956 O: - 12y \n"
     ]
    }
   ],
   "source": [
    "\n",
    "results=extract_entities(doc)\n"
   ]
  },
  {
   "cell_type": "code",
   "execution_count": 162,
   "metadata": {},
   "outputs": [
    {
     "data": {
      "text/plain": [
       "[{'TEST_NAME': 'Haemoglobin: ',\n",
       "  'TEST_UNIT': 'gm/dL',\n",
       "  'TEST_RANGE': '13 - 17',\n",
       "  'TEST_VALUE': '15.9'},\n",
       " {'TEST_NAME': 'WBC Count, Total: ',\n",
       "  'TEST_UNIT': 'X109L',\n",
       "  'TEST_RANGE': '4 - 10',\n",
       "  'TEST_VALUE': '8.4'},\n",
       " {'TEST_NAME': 'RBC Count ',\n",
       "  'TEST_UNIT': 'X1012L',\n",
       "  'TEST_RANGE': '',\n",
       "  'TEST_VALUE': '5.8'},\n",
       " {'TEST_NAME': 'Platelets: ',\n",
       "  'TEST_UNIT': 'X109L',\n",
       "  'TEST_RANGE': '150- 410',\n",
       "  'TEST_VALUE': '257'},\n",
       " {'TEST_NAME': 'Haematocrit (PCV)',\n",
       "  'TEST_UNIT': '%',\n",
       "  'TEST_RANGE': '40 - 50',\n",
       "  'TEST_VALUE': '47'},\n",
       " {'TEST_NAME': 'Mean Corpuscular Volume (MCV)',\n",
       "  'TEST_UNIT': 'fL',\n",
       "  'TEST_RANGE': '83 - 101',\n",
       "  'TEST_VALUE': '81'}]"
      ]
     },
     "execution_count": 162,
     "metadata": {},
     "output_type": "execute_result"
    }
   ],
   "source": [
    "results"
   ]
  },
  {
   "cell_type": "code",
   "execution_count": null,
   "metadata": {},
   "outputs": [],
   "source": []
  },
  {
   "cell_type": "code",
   "execution_count": null,
   "metadata": {},
   "outputs": [],
   "source": []
  },
  {
   "cell_type": "code",
   "execution_count": null,
   "metadata": {},
   "outputs": [],
   "source": []
  },
  {
   "cell_type": "code",
   "execution_count": null,
   "metadata": {},
   "outputs": [],
   "source": []
  },
  {
   "cell_type": "code",
   "execution_count": null,
   "metadata": {},
   "outputs": [],
   "source": [
    "less than greater than  <1  <1/10   up to 15  "
   ]
  },
  {
   "cell_type": "code",
   "execution_count": null,
   "metadata": {},
   "outputs": [],
   "source": []
  },
  {
   "cell_type": "code",
   "execution_count": null,
   "metadata": {},
   "outputs": [],
   "source": []
  },
  {
   "cell_type": "code",
   "execution_count": 151,
   "metadata": {},
   "outputs": [
    {
     "data": {
      "text/plain": [
       "[{'TEST_NAME': 'WBC', 'TEST_UNIT': 'x1lOE3/uL', 'TEST_VALUE': '7.4'},\n",
       " {'TEST_NAME': 'RBC',\n",
       "  'TEST_UNIT': 'xlOE6/uL',\n",
       "  'TEST_RANGE': '4.14 - 5.80',\n",
       "  'TEST_VALUE': '5.62'},\n",
       " {'TEST_NAME': 'Hemoglobin', 'TEST_UNIT': 'g/dL ', 'TEST_VALUE': '16.8'},\n",
       " {'TEST_NAME': 'Hematocrit', 'TEST_VALUE': '48.4'},\n",
       " {'TEST_NAME': 'CV', 'TEST_VALUE': '86'},\n",
       " {'TEST_NAME': 'GHC', 'TEST_UNIT': 'g/dL', 'TEST_VALUE': '34.7'},\n",
       " {'TEST_NAME': 'RDW', 'TEST_RANGE': ''},\n",
       " {'TEST_NAME': 'Platelets', 'TEST_UNIT': 'xLOE3/uL', 'TEST_VALUE': '303'},\n",
       " {'TEST_NAME': 'eutrophils', 'TEST_UNIT': '& 0 ', 'TEST_VALUE': '47'},\n",
       " {'TEST_NAME': 'Lymphs', 'TEST_UNIT': '& 0 ', 'TEST_VALUE': '46'},\n",
       " {'TEST_NAME': 'onocytes', 'TEST_UNIT': '& 0 ', 'TEST_VALUE': '6'},\n",
       " {'TEST_NAME': 'Eos', 'TEST_UNIT': '& 0 ', 'TEST_VALUE': '1'},\n",
       " {'TEST_NAME': 'Basos', 'TEST_UNIT': '& 0 ', 'TEST_VALUE': '0'},\n",
       " {'TEST_NAME': 'eutrophils (Absolute)',\n",
       "  'TEST_UNIT': 'x10E3/uL',\n",
       "  'TEST_VALUE': '3.4'},\n",
       " {'TEST_NAME': 'Lymphs. (Absolute)',\n",
       "  'TEST_UNIT': 'x1lOE3/uL',\n",
       "  'TEST_VALUE': '3.4 High'},\n",
       " {'TEST_NAME': 'onocytes (Absolute)',\n",
       "  'TEST_UNIT': 'x10E3/uL O.L',\n",
       "  'TEST_VALUE': '0.5'},\n",
       " {'TEST_NAME': 'Eos (Absolute)',\n",
       "  'TEST_UNIT': 'x10E3/uL',\n",
       "  'TEST_RANGE': '0.0 - 0.4'},\n",
       " {'TEST_NAME': 'Baso (Absolute)',\n",
       "  'TEST_UNIT': 'Xx10E3/uL',\n",
       "  'TEST_VALUE': '0.0'},\n",
       " {'TEST_NAME': 'mmnature Granulocytes', 'TEST_UNIT': '& 0 '},\n",
       " {'TEST_NAME': 'mmature Grans (Abs)',\n",
       "  'TEST_UNIT': 'x10E3/uL',\n",
       "  'TEST_RANGE': '0.0 - 0.1',\n",
       "  'TEST_VALUE': '0.0'},\n",
       " {'TEST_NAME': 'Glucose, Serum o7',\n",
       "  'TEST_UNIT': 'mg/dL',\n",
       "  'TEST_RANGE': '65 - 99'},\n",
       " {'TEST_NAME': 'BUN',\n",
       "  'TEST_UNIT': 'mg/dL',\n",
       "  'TEST_RANGE': '6 - 24',\n",
       "  'TEST_VALUE': '18'},\n",
       " {'TEST_NAME': 'Creatinine, Serum A. LB', 'TEST_UNIT': 'mg/dL'},\n",
       " {'TEST_NAME': 'eGFR If NonAfricn Am F2',\n",
       "  'TEST_UNIT': 'mL/min/1.73',\n",
       "  'TEST_RANGE': '> 59'},\n",
       " {'TEST_NAME': 'eGFR If Africn Am',\n",
       "  'TEST_UNIT': 'mL/min/1.73',\n",
       "  'TEST_RANGE': '> 59',\n",
       "  'TEST_VALUE': '83'},\n",
       " {'TEST_NAME': 'MCV', 'TEST_UNIT': 'fL', 'TEST_RANGE': '79 - 97'},\n",
       " {'TEST_NAME': 'MCH',\n",
       "  'TEST_UNIT': 'pg',\n",
       "  'TEST_RANGE': '26.6 - 33.0',\n",
       "  'TEST_VALUE': '29.9'},\n",
       " {'TEST_NAME': 'MCHC', 'TEST_RANGE': '31.5 - 35.7'},\n",
       " {'TEST_NAME': 'Neutrophils', 'TEST_UNIT': '% '},\n",
       " {'TEST_NAME': 'Monocytes', 'TEST_UNIT': '% '},\n",
       " {'TEST_NAME': 'Neutrophils (Absolute)', 'TEST_RANGE': '1.4 - 7.0'},\n",
       " {'TEST_NAME': 'Monocytes (Absolute)', 'TEST_RANGE': '0.1 - 0.9'},\n",
       " {'TEST_NAME': 'Immature Granulocytes', 'TEST_UNIT': '% '}]"
      ]
     },
     "execution_count": 151,
     "metadata": {},
     "output_type": "execute_result"
    }
   ],
   "source": [
    "results"
   ]
  },
  {
   "cell_type": "code",
   "execution_count": 329,
   "metadata": {},
   "outputs": [
    {
     "data": {
      "text/plain": [
       "[]"
      ]
     },
     "execution_count": 329,
     "metadata": {},
     "output_type": "execute_result"
    }
   ],
   "source": [
    "results"
   ]
  },
  {
   "cell_type": "code",
   "execution_count": 27,
   "metadata": {},
   "outputs": [
    {
     "data": {
      "text/plain": [
       "'w Verizon LE 11:40PM 95% 4 Touch to resume FaceTime 01:52 0 my.natera.com C Patent Inlormation Opano! Test Inlorm.ton Paticnt N me Ri J Mester Ordering Phnkian SyveRer McREe MD Dbte of hh 1012/1986 Qinlc Inlormstion: Propoth-Ob/cyn M tern AE atEDD: 32 ABOUT THS SCREEN Pinpran ha Physicin Partners.Dr. Gsutional Ase: M UEGA0134 test. not diosnoste ievloes renekl 16 wecs/o days n the maternolbbod whichssmicureo Additbnol Rcoorts M tern Weicht 19701bs 706-32083035 and plxcnts DNA to dctomhe thec Colletin t 551B418-2-N Report Date: 1101/2018 specific chromosome abnormaitia The Reference ID 6520216-2-N Samples Colected 10/22/2018 NOT tdl withcertinty afttusisafete Acesuonhg 1D. RT1B-4632 S mples Received: 1025/201B tcsts for the condions odered by the C r FleID proVCET. A bw rik resut doc nct tu 2104188 Mother Blood unoRected Iets FINAL RESULTS SUMMARY Rasult Fctal Sex Fetol Fraction LO WRISK Male 9.19% W) RESULT DETAILS: ANEUPLOIDIES Condition tested Resut Risk Before Test? Risk After Test 1 s 0 0y21 Low Risk 1/518 <1/10.000 Trisomy 18 Low Risk 1/1.549 <1/10,000 Trisomy 13 Lo w Risk 1/4.766 0.000 M onosomyX Low Risk 1/568 <1/10.000 Triploidy Low Risk RESULT DETAILS:MICRODELETIONS Condition tested Result Risk Before Test? Risk After Test 22q112 dciction syndrome Low Risk 1/2.000 1/9.000 1Ed scm wthrvtereof leul nda pbxenul monldn 2. Bayed on muerol ase resttonl ire, nd/or rensnl pppubtion,s plabe Pef newbu  1n安 o udd opoates r s ronthe Pna m ssoritn nd dttomspublshed tuy a1ieas women IDretsl Am Jobmet cnk 12 17 d2rereportd as ppv hh riy and NV ow ro) Mternal pe isuttdhthisskution howrver iha rkine tesrnynot refea r t o r bkbniidnbu nat intdta reulb of aha sa nhe uinound Indrai penonsamy Nstpry.are ufe期 br* Hb orpoatesroulifrom the Pinonmo korim and dit fom pbished sudes Mortin st al an cncts 2017J 11, woonerRe nct itad Inthe rie a ObnttC mecol 2015 212032 1.91 nd are rpotdas ppvrhahron)andNW owriy Rok or m n his cdabtion Dipendng upon TF.in someo ony he piternl kee k oalted lse ore 2 The rik her ter muy not rrfed the sctual Pv lor this paents crodeietionm bhdpendent d motem re Folt2cton（日 d do hdidng but noiimied b; mas d oher srenng arsaund indnn peronol  hstory.  not hdded h the dst assessment Ao n as 2 s4n7 ,MDFAONACG LtOrtnO D wnn r wadlulie l Dinneken namn rapca sio Loor F THE ORDERING FROVDER HAS QUESTIONS OR WBHESTO DISCUSS TE RESULTS PLFASE CONTACTUS AT 450.2'"
      ]
     },
     "execution_count": 27,
     "metadata": {},
     "output_type": "execute_result"
    }
   ],
   "source": [
    "doc"
   ]
  },
  {
   "cell_type": "code",
   "execution_count": null,
   "metadata": {},
   "outputs": [],
   "source": [
    "doc=''"
   ]
  },
  {
   "cell_type": "code",
   "execution_count": 91,
   "metadata": {},
   "outputs": [
    {
     "name": "stdout",
     "output_type": "stream",
     "text": [
      "         25)\n",
      " Name :Mr. ANWAR ALI SAEED MUHAMMAD Lab No :LAB5394796 Validated :12-01-202001:59\n",
      " Age/Sex: 54YIM Visit No :IN433700 Reported :12-01-202009:24\n",
      " MR No :UA0100000578466 Referred By:Dr. Abid Ali Anwaar Printed On:13-01-202013:52 Laboratory Report Biochemistry\n",
      " Test Description Result Units Reference Range\n",
      " Lipid Profile,Serum Sampled:11-01-202017:07\n",
      " LDL 2.37 mmollL Optimal: Less than 2.6 Near Optimall Above Optimal:\n",
      " Methodology: Bichromatic End Point 2.6-32 Bordcrline High: 3.4.4.1 High:4.1.4.9 Very High:More than 4.9\n",
      " Triglycerides,Serum 2.17 mmol ¶ù  Normal: <1.70 Borderline High:1.70-2.25\n",
      " Methodology: Enzymatic, end point High: 2.26-5.64 . Very High:>5.65\n",
      " Cholesterol 4.20 mmol/L Desirable: <5.2 Borderline High:5.2-6.2\n",
      " Methodology: Cholesterol Oxidase High:>6.2\n",
      " HDL. 1.19 mmol/L Low HDL: <1.04 High HDL:>1.55\n",
      " Methodology: Direct HDL,PEGME\n",
      " Perf.Center.NuC Royal Sampled:11-01-202017:07\n",
      " Vitamin D(25-Hydroxy Cholecalciferol), 10.85 ng/ml Deficiency:<20 Insufficiency: 20-30\n",
      " Serum Sufficiency: 30-100\n",
      " Methodology: Chemiluminisence. Toxicity: >100\n",
      " Perf.Center.-NwC Royal Sampled:11-01-202017:07\n",
      " Vitamin B12, Serum 337 pglmL 211-911\n",
      " Nethodology: Chemiluminescence\n",
      " Perf.Center-NMC Royal Sampled:11-01-202017:07\n",
      " SGPT(ALT), Serum 51 UL 0.63\n",
      " Nethodology:IFCC\n",
      " Perf.Center.NMC Royal Sampled:11-01-202017:07 5.8 mgldl 3.5-7.2\n",
      " Uric Acid, Serum (1 mgidl=59.48 umol/L)\n",
      " Methodology: Uricase\n",
      " Perf.Center-NMC Royal\n",
      " Electrolyte Profile(Na,K,CI), Serum Sampled:11-01-202017:07\n",
      " Bicarbonate, Serum 29.1 mmol/L 21-32\n",
      " Methodology: Enzymatic\n",
      " Cl 105 mmol/L 98-107\n",
      " Methodology:ISE,Indirect Page 1of2\n",
      " \n"
     ]
    }
   ],
   "source": [
    "from striprtf.striprtf import rtf_to_text\n",
    "f = open('NMC Anwar Biochemistry (a).rtf', 'r')\n",
    "data = f.readlines()\n",
    "f.close()\n",
    "\n",
    "data=' '.join([rtf_to_text(i) for i in data])\n",
    "print(data)\n"
   ]
  },
  {
   "cell_type": "code",
   "execution_count": 92,
   "metadata": {},
   "outputs": [
    {
     "data": {
      "text/plain": [
       "'         25)\\n Name :Mr. ANWAR ALI SAEED MUHAMMAD Lab No :LAB5394796 Validated :12-01-202001:59\\n Age/Sex: 54YIM Visit No :IN433700 Reported :12-01-202009:24\\n MR No :UA0100000578466 Referred By:Dr. Abid Ali Anwaar Printed On:13-01-202013:52 Laboratory Report Biochemistry\\n Test Description Result Units Reference Range\\n Lipid Profile,Serum Sampled:11-01-202017:07\\n LDL 2.37 mmollL Optimal: Less than 2.6 Near Optimall Above Optimal:\\n Methodology: Bichromatic End Point 2.6-32 Bordcrline High: 3.4.4.1 High:4.1.4.9 Very High:More than 4.9\\n Triglycerides,Serum 2.17 mmol ¶ù \\xa0Normal: <1.70 Borderline High:1.70-2.25\\n Methodology: Enzymatic, end point High: 2.26-5.64 . Very High:>5.65\\n Cholesterol 4.20 mmol/L Desirable: <5.2 Borderline High:5.2-6.2\\n Methodology: Cholesterol Oxidase High:>6.2\\n HDL. 1.19 mmol/L Low HDL: <1.04 High HDL:>1.55\\n Methodology: Direct HDL,PEGME\\n Perf.Center.NuC Royal Sampled:11-01-202017:07\\n Vitamin D(25-Hydroxy Cholecalciferol), 10.85 ng/ml Deficiency:<20 Insufficiency: 20-30\\n Serum Sufficiency: 30-100\\n Methodology: Chemiluminisence. Toxicity: >100\\n Perf.Center.-NwC Royal Sampled:11-01-202017:07\\n Vitamin B12, Serum 337 pglmL 211-911\\n Nethodology: Chemiluminescence\\n Perf.Center-NMC Royal Sampled:11-01-202017:07\\n SGPT(ALT), Serum 51 UL 0.63\\n Nethodology:IFCC\\n Perf.Center.NMC Royal Sampled:11-01-202017:07 5.8 mgldl 3.5-7.2\\n Uric Acid, Serum (1 mgidl=59.48 umol/L)\\n Methodology: Uricase\\n Perf.Center-NMC Royal\\n Electrolyte Profile(Na,K,CI), Serum Sampled:11-01-202017:07\\n Bicarbonate, Serum 29.1 mmol/L 21-32\\n Methodology: Enzymatic\\n Cl 105 mmol/L 98-107\\n Methodology:ISE,Indirect Page 1of2\\n '"
      ]
     },
     "execution_count": 92,
     "metadata": {},
     "output_type": "execute_result"
    }
   ],
   "source": [
    "data"
   ]
  },
  {
   "cell_type": "code",
   "execution_count": 26,
   "metadata": {},
   "outputs": [
    {
     "name": "stdout",
     "output_type": "stream",
     "text": [
      "         25)  #n  Name :Mr. ANWAR ALI SAEED MUHAMMAD Lab No :LAB5394796 Validated :12   -   01   -   202001:59 #n  Age/Sex: 54YIM Visit No :IN433700 Reported :12   -   01   -   202009:24 #n  MR No :UA0100000578466 Referred By:Dr. Abid Ali Anwaar Printed On:13   -   01   -   202013:52 Laboratory Report Biochemistry #n  Test Description Result Units Reference Range #n  Lipid Profile,Serum Sampled:11   -   01   -   202017:07 #n  LDL 2.37 mmollL Optimal: Less than 2.6 Near Optimall Above Optimal: #n  Methodology: Bichromatic End Point 2.6   -   32 Bordcrline High: 3.4.4.1 High:4.1.4.9 Very High:More than 4.9 #n  Triglycerides,Serum 2.17 mmol ¶ù  Normal:  < 1.70 Borderline High:1.70   -   2.25 #n  Methodology: Enzymatic, end point High: 2.26   -   5.64 . Very High: > 5.65 #n  Cholesterol 4.20 mmol/L Desirable:  < 5.2 Borderline High:5.2   -   6.2 #n  Methodology: Cholesterol Oxidase High: > 6.2 #n  HDL. 1.19 mmol/L Low HDL:  < 1.04 High HDL: > 1.55 #n  Methodology: Direct HDL,PEGME #n  Perf.Center.NuC Royal Sampled:11   -   01   -   202017:07 #n  Vitamin D (25   -   Hydroxy Cholecalciferol) , 10.85 ng/ml Deficiency: < 20 Insufficiency: 20   -   30 #n  Serum Sufficiency: 30   -   100 #n  Methodology: Chemiluminisence. Toxicity:  > 100 #n  Perf.Center.   -   NwC Royal Sampled:11   -   01   -   202017:07 #n  Vitamin B12, Serum 337 pglmL 211   -   911 #n  Nethodology: Chemiluminescence #n  Perf.Center   -   NMC Royal Sampled:11   -   01   -   202017:07 #n  SGPT (ALT) , Serum 51 UL 0.63 #n  Nethodology:IFCC #n  Perf.Center.NMC Royal Sampled:11   -   01   -   202017:07 5.8 mgldl 3.5   -   7.2 #n  Uric Acid, Serum  (1 mgidl = 59.48 umol/L)  #n  Methodology: Uricase #n  Perf.Center   -   NMC Royal #n  Electrolyte Profile (Na,K,CI) , Serum Sampled:11   -   01   -   202017:07 #n  Bicarbonate, Serum 29.1 mmol/L 21   -   32 #n  Methodology: Enzymatic #n  Cl 105 mmol/L 98   -   107 #n  Methodology:ISE,Indirect Page 1of2 #n  \n"
     ]
    }
   ],
   "source": [
    "for i in chars:\n",
    "    data = re.sub(i, str(\" \" + i + \" \"), data)\n",
    "data=re.sub('\\\\n', str(\" #n \"), data)\n",
    "data = re.sub(\"\\(\", \" (\", data)\n",
    "data = re.sub(\"\\)\", \") \", data)\n",
    "print(data)\n"
   ]
  },
  {
   "cell_type": "code",
   "execution_count": 128,
   "metadata": {},
   "outputs": [],
   "source": [
    "words = ' '.join([re.sub('NEWLINE','#n',i) for i in data.split()])"
   ]
  },
  {
   "cell_type": "code",
   "execution_count": 129,
   "metadata": {},
   "outputs": [
    {
     "data": {
      "text/plain": [
       "\"Verizon E 11:40 PM 95% Touch to resume FaceTime 01:52 8 C #n . #n t1 0 u Twt inormston pano! #n Pitint N e Rim J ester Ordering h kbn S ve eMoRE MD o h 10121986 Qinic hform lion Pron h.0b/Grn ABOUT THIS SCREEN Pano TU 5 #n M tend AE EDo: 32 Physicn Partners.D M REC40134 test no diornostic tvhwarnek #n GestRionolA e: 16w d30d n emlbbod . mitu Addtbnal Reports 706 - 208305 and dxent DNA 10 Ce0 #n tenu Wei e 19705 ReportDte 1101/2018 Enormites The #n Cchccton r 55104152N sptdfk chromosome #n Reterence D 6520216 - 2 - N Samples Colected 10/222013 NOT tel withcertinty aleusisatete teih to.. condtions crcr P . #n Aceisenh ID R184512 Samples Recehed 10/25/2010 red proMdE A #n Gr eID Moue Blood o.Abw rhk resur ooe notu 2104159 unuffected letur #n FINAL RESULTS SUMMARY #n Reur Fetol Sax Fetal Froction #n LOW RISK Male 9.1% 0 #n RESULT DETAILS: ANEUPLOIDIES #n Condfition tested' Result Risk Before Test' Risk After Test' #n TriS0my21 Low Risk 1/518 < 1/10.000 #n Trisomy 18 Low Risk 1/1549 < 1/10,000 #n Trisomy13 Low Risk 1/4766 < 1/10.000 #n MonosomyX Low Risk 1/568 < 1/10.000 #n Tripoidy Low Risk #n RESULT DETAILS:MICRO DELETIONS #n Condition tested Result Risk Before Test' Risk After Test' #n 22q112 dclction syndrome Low Risk 1/2.000 1/9.000 #n 1Ed ,c nsoihtln ostxk audm 2Eed onnderal re oonl se dlor renenl popbrn pplabh Rtwrn huy 1 o y opaatesrea54o hD a n u pb d14 117825wo n0re A 1Obnet cw #n 21597 37 a portd p h r and wv bw a tenal sseih uskd n thiscky on o a ne , nor ea 1 ko d dulon pblhed ud Morinena Qnc s42017 11Woc r a eo wncorppntesrewsponhP e #n Qrrcnol 2o1sM 212013.1s1ndr. pp d pvo A w nwvrb n o ode o #n sabro D FF.inom ÉÏ dl 2 hr neter mwy rot refect the ol Wor na prntn knrn Erord fndn erovbnnhiton w not hdudedh th na nment #n a h btros 6 0 0 #n A : 2 s D 0 D 0 2 ulc D ~ #n F THE OPDENC PROADCR ASQUESTONS OR WENESTO DICUSS TIE RE CATS EASE CONTACTUS AT 50249 001A1a MpT ertk canb #n ¿Ú 22 2 1 : #n < #n\""
      ]
     },
     "execution_count": 129,
     "metadata": {},
     "output_type": "execute_result"
    }
   ],
   "source": [
    "words"
   ]
  },
  {
   "cell_type": "code",
   "execution_count": null,
   "metadata": {},
   "outputs": [],
   "source": []
  },
  {
   "cell_type": "code",
   "execution_count": 26,
   "metadata": {},
   "outputs": [
    {
     "data": {
      "text/plain": [
       "[{'TEST_NAME': 'ANEUPLOIDIES', 'TEST_RANGE': '518 < 1'},\n",
       " {'TEST_NAME': 'Trisomy', 'TEST_RANGE': '< 1', 'TEST_VALUE': '18'},\n",
       " {'TEST_NAME': 'Trisomy', 'TEST_RANGE': '568 < 1', 'TEST_VALUE': '13'},\n",
       " {'TEST_NAME': 'dciction syndrome', 'TEST_VALUE': '450.2'}]"
      ]
     },
     "execution_count": 26,
     "metadata": {},
     "output_type": "execute_result"
    }
   ],
   "source": [
    "results"
   ]
  },
  {
   "cell_type": "code",
   "execution_count": 431,
   "metadata": {},
   "outputs": [
    {
     "name": "stdout",
     "output_type": "stream",
     "text": [
      " No. Of Pages : 4\n",
      " 1Blood Test Report   Fasting \n",
      "Normal values  Observation \n",
      "Complete Blood Count \n",
      "(CBC) Fasting not essential  \n",
      "RBC (Erythrocytes) No M-4.5-6.4 \n",
      "F-4.0-5.4 Mil. / c. mm If less: anemia \n",
      "Haemoglobin No M-14-18 \n",
      "F-12-16.4 Gm / \n",
      "100 ml \n",
      " PCV (RBC) No M-42-52 \n",
      "F-37-47 %  MCV (Mean corpucells volume) \n",
      "No 78-94 Fl. Cu Type of anemia \n",
      "MCH No 27-32   \n",
      "MCHC No 32-38 Gms/dl \n",
      "%       \n",
      "WBV (Leucocytes) No 4000-\n",
      "11000 Per c. mm If less-susceptibility to \n",
      "infection \n",
      "    If very high in Lacs-\n",
      "Leukemia \n",
      "Differential WBC count \n",
      "No  %  \n",
      "Neutrophils  60-75  If more-acute infection \n",
      "Lymphocytes  20-30  If more-chronic infection \n",
      "Monocytes  2-8  If more-T.B. Typhoid, \n",
      "urinary infection Esoinophils  1-6  If more-allergy, cough, cold, \n",
      "asthma, and worms. \n",
      "Basophils  0-1  Led poisoning, Leukemia \n",
      "Abnormal cells     \n",
      "     \n",
      "Platelets No 150000-\n",
      "450000 Cu. Mm \n",
      "If less-bleeding disorder, dengue,  Peripheral smear No    \n",
      "Morphology of:     \n",
      "RBC No Normochromic /Hypochromic / Anisocytosis \n",
      "Observation  Normal / Anaemia /size of RBC differs \n",
      "WBC No    \n",
      "Blood Parasites No   MP, Filaria \n",
      "Reticulocytes No 0.5-1.5 / \n",
      "0.2-2.2  If more-anemia \n",
      "Color Index No 0.85-1.15   \n",
      "     \n",
      "In bacterial infection with fever, WBC count goes up. E.g. Tonsillitis, sinusitis, bronchitis, \n",
      "Pneumonia, appendicitis, \n",
      "urinary infection ---12000-25000 WBC, In Typhoid & viral infection Œ WBC may be normal. \n",
      "     \n",
      "     \n",
      "\n"
     ]
    },
    {
     "name": "stderr",
     "output_type": "stream",
     "text": [
      "PdfReadWarning: Xref table not zero-indexed. ID numbers for objects will be corrected. [pdf.py:1736]\n"
     ]
    }
   ],
   "source": [
    "# import PyPDF2\n",
    "\n",
    "# pdfFileObject = open(r\"Blood Test.pdf\", 'rb')\n",
    "\n",
    "# pdfReader = PyPDF2.PdfFileReader(pdfFileObject)\n",
    "\n",
    "# print(\" No. Of Pages :\", pdfReader.numPages)\n",
    "\n",
    "# pageObject = pdfReader.getPage(0)\n",
    "\n",
    "# print(pageObject.extractText())\n",
    "\n",
    "# pdfFileObject.close()"
   ]
  },
  {
   "cell_type": "code",
   "execution_count": 165,
   "metadata": {},
   "outputs": [],
   "source": [
    "s='Haemoglobin: '"
   ]
  },
  {
   "cell_type": "code",
   "execution_count": 167,
   "metadata": {},
   "outputs": [
    {
     "data": {
      "text/plain": [
       "'Haemoglobin: '"
      ]
     },
     "execution_count": 167,
     "metadata": {},
     "output_type": "execute_result"
    }
   ],
   "source": [
    "s.strip(':')"
   ]
  },
  {
   "cell_type": "code",
   "execution_count": 173,
   "metadata": {},
   "outputs": [
    {
     "data": {
      "text/plain": [
       "'Haemoglobin'"
      ]
     },
     "execution_count": 173,
     "metadata": {},
     "output_type": "execute_result"
    }
   ],
   "source": [
    "re.sub(':\\s*$','','Haemoglobin: ')"
   ]
  },
  {
   "cell_type": "code",
   "execution_count": null,
   "metadata": {},
   "outputs": [],
   "source": []
  }
 ],
 "metadata": {
  "kernelspec": {
   "display_name": ".learning",
   "language": "python",
   "name": ".learning"
  },
  "language_info": {
   "codemirror_mode": {
    "name": "ipython",
    "version": 3
   },
   "file_extension": ".py",
   "mimetype": "text/x-python",
   "name": "python",
   "nbconvert_exporter": "python",
   "pygments_lexer": "ipython3",
   "version": "3.6.8"
  }
 },
 "nbformat": 4,
 "nbformat_minor": 2
}
